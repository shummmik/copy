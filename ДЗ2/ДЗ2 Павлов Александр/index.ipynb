{
 "cells": [
  {
   "cell_type": "code",
   "execution_count": 71,
   "metadata": {},
   "outputs": [],
   "source": [
    "# импортируем библиотеки numpy и pandas\n",
    "import numpy as np\n",
    "import pandas as pd\n",
    "\n",
    "# импортируем библиотеку matplotlib для построения графиков\n",
    "import matplotlib.pyplot as plt\n",
    "%matplotlib inline\n",
    "\n",
    "import mmap\n",
    "import re\n",
    "from nltk import tokenize"
   ]
  },
  {
   "cell_type": "code",
   "execution_count": 100,
   "metadata": {},
   "outputs": [],
   "source": [
    "def getWords(text):\n",
    "    return re.compile('\\w+').findall(text)\n",
    "\n",
    "def read_sentences(filename):\n",
    "    last = \"\"\n",
    "    with open(filename) as inp:\n",
    "        while True:\n",
    "            buf = inp.read(10240)\n",
    "            if not buf:\n",
    "                break\n",
    "            sentences = re.split(r' *[\\.\\?!][\\'\"\\)\\]]* *', last + buf) #tokenize.sent_tokenize(last+buf)\n",
    "            last = sentences.pop()\n",
    "            for sentence in sentences:\n",
    "                yield sentence\n",
    "        yield last\n",
    "\n",
    "def levenshteinDistance(s1, s2):\n",
    "    if len(s1) > len(s2):\n",
    "        s1, s2 = s2, s1\n",
    "\n",
    "    distances = range(len(s1) + 1)\n",
    "    for i2, c2 in enumerate(s2):\n",
    "        distancesTemp = [i2+1]\n",
    "        for i1, c1 in enumerate(s1):\n",
    "            if c1 == c2:\n",
    "                distancesTemp.append(distances[i1])\n",
    "            else:\n",
    "                distancesTemp.append(1 + min((distances[i1], distances[i1 + 1], distancesTemp[-1])))\n",
    "        distances = distancesTemp\n",
    "    return distances[-1]\n",
    "\n",
    "# def getCosinDistance(vec1, vec2):\n",
    "#      intersection = set(vec1.keys()) & set(vec2.keys())\n",
    "\n",
    "#      sum1 = sum([vec1[x]**2 for x in vec1.keys()])\n",
    "#      sum2 = sum([vec2[x]**2 for x in vec2.keys()])\n",
    "#      denominator = math.sqrt(sum1) * math.sqrt(sum2)\n",
    "\n",
    "#      if not denominator:\n",
    "#         return 0.0\n",
    "#      else:\n",
    "#         return float(numerator) / denominator\n",
    "    \n",
    "def getClosestWordWithDiff(words, word, diff):\n",
    "    for w in words:\n",
    "        if levenshteinDistance(w, word) <= diff:\n",
    "            return w;\n",
    "    return word"
   ]
  },
  {
   "cell_type": "code",
   "execution_count": 101,
   "metadata": {},
   "outputs": [
    {
     "name": "stdout",
     "output_type": "stream",
     "text": [
      "В тексте найдено 171 предложений со средней длиной 112.1.  851 слов\n",
      "Index(['back', 'from', 'sea', 'martin', 'eden', 'came', 'homing', 'for',\n",
      "       'california', 'with',\n",
      "       ...\n",
      "       'played', 'gazed', 'hungry', 'loveliness', 'marvelling', 'suitors',\n",
      "       'listening', 'longing', 'listened', 'longed'],\n",
      "      dtype='object', length=851)\n"
     ]
    }
   ],
   "source": [
    "wordCounts = pd.Series()\n",
    "sentenceLengths = np.array([])\n",
    "\n",
    "for sentence in read_sentences('test1.txt'):\n",
    "    sentenceLengths = np.append(sentenceLengths, [len(sentence)])\n",
    "    for word in getWords(sentence):\n",
    "        tw = word.lower()\n",
    "        tw = getClosestWordWithDiff(wordCounts.index, tw, 1)\n",
    "        if tw in wordCounts.index:\n",
    "            wordCounts[tw] += 1\n",
    "        else:\n",
    "            wordCounts[tw] = 1\n",
    "\n",
    "print('В тексте найдено %d предложений со средней длиной %.1f.  %d слов' % (sentenceLengths.size, sentenceLengths.mean(), wordCounts.size))\n",
    "print(wordCounts.index)"
   ]
  },
  {
   "cell_type": "code",
   "execution_count": 99,
   "metadata": {},
   "outputs": [
    {
     "name": "stdout",
     "output_type": "stream",
     "text": [
      "               Count  Frequency\n",
      "back               8   0.009401\n",
      "from              12   0.014101\n",
      "sea               16   0.018801\n",
      "martin             4   0.004700\n",
      "eden               3   0.003525\n",
      "came              11   0.012926\n",
      "homing             1   0.001175\n",
      "for               40   0.047004\n",
      "california         1   0.001175\n",
      "with              31   0.036428\n",
      "a                174   0.204465\n",
      "lover              8   0.009401\n",
      "desire             1   0.001175\n",
      "his              126   0.148061\n",
      "store              2   0.002350\n",
      "of               136   0.159812\n",
      "money              5   0.005875\n",
      "exhausted          1   0.001175\n",
      "he               432   0.507638\n",
      "had               53   0.062280\n",
      "shipped            2   0.002350\n",
      "before             4   0.004700\n",
      "mast              10   0.011751\n",
      "treasure           5   0.005875\n",
      "hunting            1   0.001175\n",
      "schooner           1   0.001175\n",
      "and              170   0.199765\n",
      "solomon            1   0.001175\n",
      "islands            1   0.001175\n",
      "after              5   0.005875\n",
      "...              ...        ...\n",
      "cried              1   0.001175\n",
      "sweetly            1   0.001175\n",
      "petulant           1   0.001175\n",
      "slang              1   0.001175\n",
      "horrid             1   0.001175\n",
      "stammered          1   0.001175\n",
      "haltingly          1   0.001175\n",
      "perfect            1   0.001175\n",
      "clay               1   0.001175\n",
      "passionately       1   0.001175\n",
      "desirous           2   0.002350\n",
      "moulded            1   0.001175\n",
      "shaping            1   0.001175\n",
      "image              1   0.001175\n",
      "pointed            1   0.001175\n",
      "opportuneness      1   0.001175\n",
      "entrance           1   0.001175\n",
      "examinations       1   0.001175\n",
      "monday             1   0.001175\n",
      "volunteered        1   0.001175\n",
      "played             1   0.001175\n",
      "gazed              1   0.001175\n",
      "hungry             1   0.001175\n",
      "loveliness         1   0.001175\n",
      "marvelling         1   0.001175\n",
      "suitors            1   0.001175\n",
      "listening          1   0.001175\n",
      "longing            1   0.001175\n",
      "listened           1   0.001175\n",
      "longed             1   0.001175\n",
      "\n",
      "[851 rows x 2 columns]\n"
     ]
    },
    {
     "data": {
      "image/png": "[encoded data removed]",
      "text/plain": [
       "<Figure size 432x288 with 1 Axes>"
      ]
     },
     "metadata": {
      "needs_background": "light"
     },
     "output_type": "display_data"
    }
   ],
   "source": [
    "words_df = pd.DataFrame(\n",
    "            {'Count': wordCounts})\n",
    "words_count = words_df.shape[0]\n",
    "words_df['Frequency'] = wordCounts / words_count\n",
    "print(words_df)\n",
    "\n",
    "wordCounts.plot.hist(grid=True, bins=100, rwidth=0.4,\n",
    "                   color='#607c8e')\n",
    "\n",
    "plt.title('Частотная диаграмма распределения слов в тексте')\n",
    "plt.xlabel('Слова')\n",
    "plt.ylabel('Частота')\n",
    "plt.grid(axis='y', alpha=0.75)"
   ]
  },
  {
   "cell_type": "code",
   "execution_count": null,
   "metadata": {},
   "outputs": [],
   "source": []
  }
 ],
 "metadata": {
  "kernelspec": {
   "display_name": "Python 3",
   "language": "python",
   "name": "python3"
  },
  "language_info": {
   "codemirror_mode": {
    "name": "ipython",
    "version": 3
   },
   "file_extension": ".py",
   "mimetype": "text/x-python",
   "name": "python",
   "nbconvert_exporter": "python",
   "pygments_lexer": "ipython3",
   "version": "3.7.1"
  }
 },
 "nbformat": 4,
 "nbformat_minor": 2
}
