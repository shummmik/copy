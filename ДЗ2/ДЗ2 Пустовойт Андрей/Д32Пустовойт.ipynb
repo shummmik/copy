{
 "cells": [
  {
   "cell_type": "markdown",
   "metadata": {},
   "source": [
    "# Домашнее задание 2\n",
    "\n",
    "#### С использованием библиотек Numpy и Pandas написать программу реализующую:\n",
    "\n",
    "   1. Загрузку текстового файла из корневого каталога объемом не менее 20000 символов включая пробелы и все символы.\n",
    "   2.  Подсчет частоты встречаемости слов в загруженном файле (критерий схожести слов выбрать самостоятельно).\n",
    "   3.  Подсчет длин предложений и их количества.\n",
    "   4.  Ввод полученных данных в объект DataFrame и Series, а также отображение полученных результатов в виде таблицы \"объекты - признаки\".\n",
    "   5. Построение гистограммы частоты встречаемости слов.\n",
    "\n",
    "   В вачестве критерия схожести была выбрана полная уникальность слов, то есть алгоритмы кластеризации данных в данном решении не применялись.\n",
    "    Текстовым файлом для анализа стал рассказ О.Генри \"Деловые люди\" (фай \"Genri_BP_UNI.txt\" прилагается)."
   ]
  },
  {
   "cell_type": "code",
   "execution_count": 77,
   "metadata": {},
   "outputs": [],
   "source": [
    "import pandas as pd\n",
    "import numpy as np\n",
    "from re import sub"
   ]
  },
  {
   "cell_type": "code",
   "execution_count": 78,
   "metadata": {
    "scrolled": false
   },
   "outputs": [],
   "source": [
    "with open('Genri_BP_UNI.txt', 'rt', encoding='utf-8') as file:\n",
    "    text = file.read()\n",
    "\n",
    "# =========== нормализация исходного текста\n",
    "\n",
    "# убираем переводы строк\n",
    "text = text.replace('\\n', ' ')\n",
    "\n",
    "# убираем примечания в квадратных скобках\n",
    "text = sub(r'\\[.+?\\]', '', text)\n",
    "\n",
    "# только точки в качестве разделителя предложений\n",
    "text = sub(r'[!?]', '.', text)\n",
    "\n",
    "# убираем точки из косвенной речи и вводных предложений в скобках\n",
    "text = sub(r'\\(.+?\\)', lambda t: t.group().replace(\".\", \"\"), text)\n",
    "text = sub(r'\".+?\"', lambda t: t.group().replace(\".\", \"\"), text)\n",
    "\n",
    "# убираем все остальные знаки припинания\n",
    "text = sub(r'[^\\w.]', ' ', text)\n",
    "\n",
    "# убираем однобуквенные \"предложения\" (инициалы)\n",
    "text = sub(r'\\b((\\w)\\.\\s+)', '\\\\2', text)\n",
    "\n",
    "# убираем повторяющиеся пробелы и точки\n",
    "while '  ' in text:\n",
    "    text = text.replace('  ', ' ')\n",
    "while '..' in text:\n",
    "    text = text.replace('..', '.')\n",
    "\n",
    "# убираем \"мусор\" в начале и конце текста и преобразуем к нижнему регистру\n",
    "text = text.strip().lower()\n",
    "\n",
    "\n",
    "# =========== обработка\n",
    "\n",
    "# разбиваем на предложения и удаляем пустые элементы\n",
    "sentences = list(filter(None, map(lambda s: s.strip(), text.split('.'))))\n",
    "# for s in sentences:\n",
    "#     print(s)\n",
    "\n",
    "# считаем длины в символах\n",
    "s_lengths = list(map(lambda s: len(s), sentences))\n",
    "# считаем длины в словах\n",
    "sw_lengths = list(map(lambda s: len(s.split()), sentences))\n",
    "\n",
    "#print(\"Количество предложений:\", len(sentences))\n",
    "#print(\"Длины предложений (символов):\", sorted(s_lengths, reverse=True))\n",
    "#print(\"Длины предложений (слов):\", sorted(sw_lengths, reverse=True))\n",
    "\n",
    "\n",
    "# разбиваем на слова\n",
    "words = text.replace('.', ' ').split()\n",
    "\n",
    "# можем убрать предлоги, но тогда будут удалены и местоимения\n",
    "# words = list(filter(lambda w: len(w) > 2, words))\n",
    "#print(len(words))\n",
    "\n",
    "# считаем слова по критерию полного совпадения\n",
    "word_counts = {}\n",
    "for word in words:\n",
    "    word_counts[word] = word_counts.get(word, 0) + 1\n",
    "\n",
    "sorted_words = sorted(word_counts.items(), key=lambda w: w[1], reverse=True)\n",
    "#print(sorted_words)\n"
   ]
  },
  {
   "cell_type": "code",
   "execution_count": 79,
   "metadata": {},
   "outputs": [],
   "source": [
    "# используем возможности модуля pandas для обработки и визуализации полученных результатов\n",
    "#sentences_df =  pd.DataFrame((sentences, s_lengths, sw_lengths), columns=['Предложения', 'Длина предложения в символах', 'Длина предложения в словах'])\n",
    "sentences_Se = pd.Series(sentences)\n",
    "s_lengths_Se = pd.Series(s_lengths)\n",
    "sw_lengths_Se = pd.Series(sw_lengths)\n",
    "df = pd.DataFrame({'Предложения' : sentences_Se, 'Количество_слов': sw_lengths_Se, 'Количество_символов' : s_lengths_Se })\n",
    "word_counts_Se = pd.Series(word_counts)\n",
    "df2 = pd.DataFrame(word_counts_Se)\n",
    "df2.rename(columns = {0 : 'Частота_встречаемости'}, inplace = True)"
   ]
  },
  {
   "cell_type": "code",
   "execution_count": 80,
   "metadata": {},
   "outputs": [
    {
     "data": {
      "text/html": [
       "<div>\n",
       "<style scoped>\n",
       "    .dataframe tbody tr th:only-of-type {\n",
       "        vertical-align: middle;\n",
       "    }\n",
       "\n",
       "    .dataframe tbody tr th {\n",
       "        vertical-align: top;\n",
       "    }\n",
       "\n",
       "    .dataframe thead th {\n",
       "        text-align: right;\n",
       "    }\n",
       "</style>\n",
       "<table border=\"1\" class=\"dataframe\">\n",
       "  <thead>\n",
       "    <tr style=\"text-align: right;\">\n",
       "      <th></th>\n",
       "      <th>Предложения</th>\n",
       "      <th>Количество_слов</th>\n",
       "      <th>Количество_символов</th>\n",
       "    </tr>\n",
       "  </thead>\n",
       "  <tbody>\n",
       "    <tr>\n",
       "      <th>0</th>\n",
       "      <td>о</td>\n",
       "      <td>1</td>\n",
       "      <td>1</td>\n",
       "    </tr>\n",
       "    <tr>\n",
       "      <th>1</th>\n",
       "      <td>генри деловые люди вы конечно сами все знаете ...</td>\n",
       "      <td>13</td>\n",
       "      <td>70</td>\n",
       "    </tr>\n",
       "    <tr>\n",
       "      <th>2</th>\n",
       "      <td>вы задевали живых актеров локтями на улицах а ...</td>\n",
       "      <td>15</td>\n",
       "      <td>80</td>\n",
       "    </tr>\n",
       "    <tr>\n",
       "      <th>3</th>\n",
       "      <td>вы читали критику на них в газетах и видели в ...</td>\n",
       "      <td>18</td>\n",
       "      <td>111</td>\n",
       "    </tr>\n",
       "    <tr>\n",
       "      <th>4</th>\n",
       "      <td>если свести воедино ваши представления о таинс...</td>\n",
       "      <td>23</td>\n",
       "      <td>174</td>\n",
       "    </tr>\n",
       "  </tbody>\n",
       "</table>\n",
       "</div>"
      ],
      "text/plain": [
       "                                         Предложения  Количество_слов  \\\n",
       "0                                                  о                1   \n",
       "1  генри деловые люди вы конечно сами все знаете ...               13   \n",
       "2  вы задевали живых актеров локтями на улицах а ...               15   \n",
       "3  вы читали критику на них в газетах и видели в ...               18   \n",
       "4  если свести воедино ваши представления о таинс...               23   \n",
       "\n",
       "   Количество_символов  \n",
       "0                    1  \n",
       "1                   70  \n",
       "2                   80  \n",
       "3                  111  \n",
       "4                  174  "
      ]
     },
     "execution_count": 80,
     "metadata": {},
     "output_type": "execute_result"
    }
   ],
   "source": [
    "df.head()"
   ]
  },
  {
   "cell_type": "code",
   "execution_count": 81,
   "metadata": {},
   "outputs": [
    {
     "data": {
      "text/html": [
       "<div>\n",
       "<style scoped>\n",
       "    .dataframe tbody tr th:only-of-type {\n",
       "        vertical-align: middle;\n",
       "    }\n",
       "\n",
       "    .dataframe tbody tr th {\n",
       "        vertical-align: top;\n",
       "    }\n",
       "\n",
       "    .dataframe thead th {\n",
       "        text-align: right;\n",
       "    }\n",
       "</style>\n",
       "<table border=\"1\" class=\"dataframe\">\n",
       "  <thead>\n",
       "    <tr style=\"text-align: right;\">\n",
       "      <th></th>\n",
       "      <th>Частота_встречаемости</th>\n",
       "    </tr>\n",
       "  </thead>\n",
       "  <tbody>\n",
       "    <tr>\n",
       "      <th>о</th>\n",
       "      <td>9</td>\n",
       "    </tr>\n",
       "    <tr>\n",
       "      <th>генри</th>\n",
       "      <td>2</td>\n",
       "    </tr>\n",
       "    <tr>\n",
       "      <th>деловые</th>\n",
       "      <td>2</td>\n",
       "    </tr>\n",
       "    <tr>\n",
       "      <th>люди</th>\n",
       "      <td>3</td>\n",
       "    </tr>\n",
       "    <tr>\n",
       "      <th>вы</th>\n",
       "      <td>14</td>\n",
       "    </tr>\n",
       "  </tbody>\n",
       "</table>\n",
       "</div>"
      ],
      "text/plain": [
       "         Частота_встречаемости\n",
       "о                            9\n",
       "генри                        2\n",
       "деловые                      2\n",
       "люди                         3\n",
       "вы                          14"
      ]
     },
     "execution_count": 81,
     "metadata": {},
     "output_type": "execute_result"
    }
   ],
   "source": [
    "df2.head()"
   ]
  },
  {
   "cell_type": "code",
   "execution_count": 83,
   "metadata": {},
   "outputs": [
    {
     "data": {
      "text/plain": [
       "<matplotlib.axes._subplots.AxesSubplot at 0x21eaec62ac8>"
      ]
     },
     "execution_count": 83,
     "metadata": {},
     "output_type": "execute_result"
    },
    {
     "data": {
      "image/png": "[encoded data removed]",
      "text/plain": [
       "<Figure size 1440x720 with 1 Axes>"
      ]
     },
     "metadata": {
      "needs_background": "light"
     },
     "output_type": "display_data"
    }
   ],
   "source": [
    "# график, предсталяющий частоту встречаемости первых 10 слов из датафрейма\n",
    "df2.Частота_встречаемости.head(10).plot(figsize = (20, 10), kind = 'bar')"
   ]
  },
  {
   "cell_type": "code",
   "execution_count": null,
   "metadata": {},
   "outputs": [],
   "source": []
  }
 ],
 "metadata": {
  "kernelspec": {
   "display_name": "Python 3",
   "language": "python",
   "name": "python3"
  },
  "language_info": {
   "codemirror_mode": {
    "name": "ipython",
    "version": 3
   },
   "file_extension": ".py",
   "mimetype": "text/x-python",
   "name": "python",
   "nbconvert_exporter": "python",
   "pygments_lexer": "ipython3",
   "version": "3.7.1"
  }
 },
 "nbformat": 4,
 "nbformat_minor": 2
}
