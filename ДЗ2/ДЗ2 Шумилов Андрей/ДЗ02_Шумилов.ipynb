{
 "cells": [
  {
   "cell_type": "markdown",
   "metadata": {},
   "source": [
    "С использованием библиотек Numpy и Pandas написать программу реализующую:\n",
    "\n",
    "1. Загрузку текстового файла из корневого каталога объемом не менее 20000 символов включая пробелы и все символы.\n",
    "2. Подсчет частоты встречаемости слов в загруженном файле (критерий схожести слов выбрать самостоятельно).\n",
    "3. Подсчет длин предложений и их количества.\n",
    "4. Ввод полученных данных в объект DataFrame и Series, а также отображение полученных результатов в виде таблицы \\\"объекты - признаки\\\".\n",
    "5. Построение гистограммы частоты встречаемости слов.\n",
    "\n"
   ]
  },
  {
   "cell_type": "code",
   "execution_count": 1,
   "metadata": {},
   "outputs": [],
   "source": [
    "%matplotlib inline\n",
    "import re\n",
    "import numpy as np\n",
    "import pandas as pd\n",
    "from functools import reduce\n",
    "import matplotlib.pyplot as plt"
   ]
  },
  {
   "cell_type": "markdown",
   "metadata": {},
   "source": [
    "Считываем текст из файла и фомируем корпуса:\n",
    "\n",
    "<div><ul><li>количество слов в предложении</li>\n",
    "<li>количество символов в предложении</li>\n",
    "<li>слов в тексте</li></ul></div>"
   ]
  },
  {
   "cell_type": "code",
   "execution_count": 2,
   "metadata": {},
   "outputs": [],
   "source": [
    "text_path = 'text.txt' \n",
    "\n",
    "f = open(text_path, 'r', encoding='utf8') \n",
    "\n",
    "alphabet = 'абвгдеёжзийклмнопрстуфхцчшщъыьэюя'\n",
    "split_regex = re.compile(r'[\\.!\\?\"]+') \n",
    "regex_all_letter = 'А-ЯЁёа-я'\n",
    "reg_ex = r\"([{0}]+[\\-']?[{0}]*)\".format(regex_all_letter) \n",
    "#корпус слов \n",
    "words = {} \n",
    "#количество слов в предложении\n",
    "words_in_sent_count = {} \n",
    "#количество символов в предложении\n",
    "sentences_count_sign = {} \n",
    "\n",
    "\n",
    "for line in f: \n",
    "    #количество предложений в строке \n",
    "    sentences_in_line = list(filter(lambda t: t, [t.strip() for t in split_regex.split(line)])) \n",
    "    for sentence in sentences_in_line: \n",
    "        #количество символов в предложении \n",
    "        if len(sentence)+1 in sentences_count_sign.keys():  \n",
    "            sentences_count_sign[len(sentence)+1] +=1 \n",
    "        else: \n",
    "            sentences_count_sign[len(sentence)+1] =1 \n",
    "        #количество слов в предложении \n",
    "        words_in_sentence = list(map(lambda word: word.lower(), list(re.findall(reg_ex, sentence)))) \n",
    "        #формируем корпус количества слов в предложении\n",
    "        if len(words_in_sentence) in words_in_sent_count.keys(): \n",
    "            words_in_sent_count[len(words_in_sentence)] +=1 \n",
    "        else: \n",
    "            words_in_sent_count[len(words_in_sentence)] =1 \n",
    "        #формируем корпус слов (слово:частота встречаемости)    \n",
    "        for word in words_in_sentence: \n",
    "            if word in words.keys(): \n",
    "                words[word] += 1 \n",
    "            else: \n",
    "                words[word] = 1 \n",
    "f.close() \n",
    "\n",
    "\n",
    "#print(words) "
   ]
  },
  {
   "cell_type": "markdown",
   "metadata": {},
   "source": [
    "### Выбор алгоритма\n",
    "В начале был рассмотрен алгоритм Левенштейна. Но в нем отличие двух слов является количественная мера, чем будет сложно оперировать при настройке схожести. Следовательно, необходимо взять алгоритм с относительной мерой схожести (косинусное, Пирсона..). Для возможности сравнить слова их необходимо представить в виде векторов в 33 мерном пространстве (количество букв в русском алфавите). "
   ]
  },
  {
   "cell_type": "code",
   "execution_count": 3,
   "metadata": {},
   "outputs": [],
   "source": [
    "#вектора слов\n",
    "dict_alphabet = {word:[word.count(i)/len(word) for i in alphabet] for word in words.keys()} \n",
    "#столбцы\n",
    "rowss = [i for i in alphabet]"
   ]
  },
  {
   "cell_type": "code",
   "execution_count": 17,
   "metadata": {},
   "outputs": [],
   "source": [
    "#датафрейм из векторов слов\n",
    "df = pd.DataFrame.from_dict(dict_alphabet, orient='index', columns=rowss)\n",
    "#функция умножения векторов\n",
    "cos_array = lambda x,y:np.dot(x,y)/np.linalg.norm(x)/np.linalg.norm(y)"
   ]
  },
  {
   "cell_type": "code",
   "execution_count": 15,
   "metadata": {
    "scrolled": false
   },
   "outputs": [
    {
     "name": "stdout",
     "output_type": "stream",
     "text": [
      "1\n",
      "{}\n"
     ]
    }
   ],
   "source": [
    "arg = .7 #параметр поиска похожих слов\n",
    "range_words = 10 #ограничитель схожести для слов отобранных по критерию - слову(увеличить-упрощать)\n",
    "\n",
    "\n",
    "print(len(df))\n",
    "metrics = {}\n",
    "last_max = 1.\n",
    "\n",
    "while len(df)>1:\n",
    "    #если убрать cos_array по будет считать расстояние Пирсона\n",
    "    corr_df = df.T.corr(cos_array)#работает с версии 0.24\n",
    "    #поиск максимальной корреляционной зависимости\n",
    "    get_max_metric =  lambda y: y[y<last_max].max().idxmax()\n",
    "    #поиск всех слов корреляция с которыми больше параметра поиска\n",
    "    get_list_metric = lambda x, y: y[y[x]>arg][x].index.tolist()\n",
    "    \n",
    "    max_metric = get_max_metric(corr_df)\n",
    "\n",
    "    try:\n",
    "        list_metric = get_list_metric(max_metric,corr_df)\n",
    "    except Exception:\n",
    "        list_metric = corr_df.index.tolist()\n",
    "    list_local_metrics = {index_metric:get_list_metric(index_metric,corr_df) for index_metric in list_metric if index_metric != max_metric}\n",
    "    #переменная для ранжирования подобранных слов\n",
    "    rang_word = {} \n",
    "    #функция для ранжирования подобранных слов\n",
    "    for local_metric in list_local_metrics.keys():\n",
    "        for word in list_local_metrics.keys():\n",
    "            if word in list_local_metrics[local_metric]:\n",
    "                if word in rang_word:\n",
    "                    rang_word[word] +=1\n",
    "                else:\n",
    "                    rang_word[word] =1\n",
    "\n",
    "    #print(rang_word)\n",
    "    try:\n",
    "        #max ранг\n",
    "        max_rang = max(rang_word.values())\n",
    "        result_list = [word for word in rang_word.keys() if rang_word[word] >= max_rang-range_words]\n",
    "    except Exception:\n",
    "        result_list = []\n",
    "    result_list.append(max_metric)\n",
    "    #удаляем из DataFrame выбранные слова\n",
    "    for word in result_list:\n",
    "        df = df.drop(word) \n",
    "    #заполняем словарь метрик\n",
    "    metrics[max_metric] = result_list\n",
    "    #print(len(df))\n",
    "\n",
    "print(metrics)\n",
    "\n"
   ]
  },
  {
   "cell_type": "code",
   "execution_count": 7,
   "metadata": {},
   "outputs": [],
   "source": [
    "metrics_all = {metric: sum(map(lambda x: words[x],metrics[metric])) for metric in metrics.keys()}"
   ]
  },
  {
   "cell_type": "code",
   "execution_count": 8,
   "metadata": {},
   "outputs": [
    {
     "data": {
      "image/png": "[encoded data removed]",
      "text/plain": [
       "<Figure size 432x288 with 1 Axes>"
      ]
     },
     "metadata": {
      "needs_background": "light"
     },
     "output_type": "display_data"
    }
   ],
   "source": [
    "plt.bar(metrics_all.keys(), metrics_all.values())\n",
    "plt.show()"
   ]
  },
  {
   "attachments": {},
   "cell_type": "markdown",
   "metadata": {},
   "source": [
    "### Гистограмма при расчете расстояния Пирсона\n",
    "\n",
    "<img\n",
    "src=\"data:image/png;base64,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\"/>\n",
    "при тех же параметрах имеет более выраженные максимальные выбросы, поэтому лучше использовать косинусное сравнение"
   ]
  },
  {
   "cell_type": "code",
   "execution_count": 9,
   "metadata": {},
   "outputs": [],
   "source": [
    "df_words = pd.DataFrame.from_dict(metrics_all, orient='index',columns=['Частота'])"
   ]
  },
  {
   "cell_type": "code",
   "execution_count": 10,
   "metadata": {},
   "outputs": [
    {
     "data": {
      "text/html": [
       "<div>\n",
       "<style scoped>\n",
       "    .dataframe tbody tr th:only-of-type {\n",
       "        vertical-align: middle;\n",
       "    }\n",
       "\n",
       "    .dataframe tbody tr th {\n",
       "        vertical-align: top;\n",
       "    }\n",
       "\n",
       "    .dataframe thead th {\n",
       "        text-align: right;\n",
       "    }\n",
       "</style>\n",
       "<table border=\"1\" class=\"dataframe\">\n",
       "  <thead>\n",
       "    <tr style=\"text-align: right;\">\n",
       "      <th></th>\n",
       "      <th>Частота</th>\n",
       "    </tr>\n",
       "  </thead>\n",
       "  <tbody>\n",
       "    <tr>\n",
       "      <th>деревне</th>\n",
       "      <td>4</td>\n",
       "    </tr>\n",
       "    <tr>\n",
       "      <th>подпрыгивает</th>\n",
       "      <td>10</td>\n",
       "    </tr>\n",
       "    <tr>\n",
       "      <th>что</th>\n",
       "      <td>77</td>\n",
       "    </tr>\n",
       "    <tr>\n",
       "      <th>татар</th>\n",
       "      <td>44</td>\n",
       "    </tr>\n",
       "    <tr>\n",
       "      <th>куклу</th>\n",
       "      <td>37</td>\n",
       "    </tr>\n",
       "  </tbody>\n",
       "</table>\n",
       "</div>"
      ],
      "text/plain": [
       "              Частота\n",
       "деревне             4\n",
       "подпрыгивает       10\n",
       "что                77\n",
       "татар              44\n",
       "куклу              37"
      ]
     },
     "execution_count": 10,
     "metadata": {},
     "output_type": "execute_result"
    }
   ],
   "source": [
    "df_words.head()"
   ]
  },
  {
   "cell_type": "code",
   "execution_count": 11,
   "metadata": {},
   "outputs": [],
   "source": [
    "ser_count_word_sent = pd.Series(words_in_sent_count)"
   ]
  },
  {
   "cell_type": "code",
   "execution_count": 12,
   "metadata": {},
   "outputs": [
    {
     "data": {
      "image/png": "[encoded data removed]",
      "text/plain": [
       "<Figure size 432x288 with 1 Axes>"
      ]
     },
     "metadata": {
      "needs_background": "light"
     },
     "output_type": "display_data"
    }
   ],
   "source": [
    "plt.bar(ser_count_word_sent.keys(), ser_count_word_sent.values)\n",
    "plt.show()"
   ]
  },
  {
   "cell_type": "code",
   "execution_count": 13,
   "metadata": {},
   "outputs": [],
   "source": [
    "ser_count_sign_sent = pd.Series(sentences_count_sign)\n"
   ]
  },
  {
   "cell_type": "code",
   "execution_count": 14,
   "metadata": {},
   "outputs": [
    {
     "data": {
      "image/png": "[encoded data removed]",
      "text/plain": [
       "<Figure size 432x288 with 1 Axes>"
      ]
     },
     "metadata": {
      "needs_background": "light"
     },
     "output_type": "display_data"
    }
   ],
   "source": [
    "plt.bar(ser_count_sign_sent.keys(), ser_count_sign_sent.values)\n",
    "plt.show()"
   ]
  },
  {
   "cell_type": "code",
   "execution_count": null,
   "metadata": {},
   "outputs": [],
   "source": []
  },
  {
   "cell_type": "code",
   "execution_count": null,
   "metadata": {},
   "outputs": [],
   "source": []
  },
  {
   "cell_type": "code",
   "execution_count": null,
   "metadata": {},
   "outputs": [],
   "source": []
  }
 ],
 "metadata": {
  "kernelspec": {
   "display_name": "Python 3",
   "language": "python",
   "name": "python3"
  },
  "language_info": {
   "codemirror_mode": {
    "name": "ipython",
    "version": 3
   },
   "file_extension": ".py",
   "mimetype": "text/x-python",
   "name": "python",
   "nbconvert_exporter": "python",
   "pygments_lexer": "ipython3",
   "version": "3.7.1"
  }
 },
 "nbformat": 4,
 "nbformat_minor": 2
}
