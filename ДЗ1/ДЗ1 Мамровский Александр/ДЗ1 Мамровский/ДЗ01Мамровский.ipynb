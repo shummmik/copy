{
 "cells": [
  {
   "cell_type": "code",
   "execution_count": 1,
   "metadata": {},
   "outputs": [],
   "source": [
    "# Практическое задание написать класс реализующий методы:\n",
    "\n",
    "# 1. Создание 2-x массивов размерностью 5X5 из случайных чисел.\n",
    "# 2. Запись этих массивов в разные файлы.\n",
    "# 3. Чтение из файла записанных масивов и их перемножение.\n",
    "# 4. Записи и чтения результата перемножения в файл.\n",
    "# 5. Проверка умножения массивов при помощи numpy."
   ]
  },
  {
   "cell_type": "code",
   "execution_count": 2,
   "metadata": {},
   "outputs": [],
   "source": [
    "import random\n",
    "import numpy as np"
   ]
  },
  {
   "cell_type": "code",
   "execution_count": 3,
   "metadata": {},
   "outputs": [],
   "source": [
    "class MatrixMultiply(object):\n",
    "    \"\"\"Implementation of matrix multiplication and read / write operations.\"\"\"\n",
    "\n",
    "    _MATRIX_1_FILEPATH = \"matrix_1.txt\"\n",
    "    _MATRIX_2_FILEPATH = \"matrix_2.txt\"\n",
    "    _MULTIPLY_RESULT_FILEPATH = \"multiply_result.txt\"\n",
    "    _RANDOM_LOW = -100\n",
    "    _RANDOM_HIGH = 100\n",
    "\n",
    "    def __init__(self, matrix_1, matrix_2):\n",
    "        self._matrix_1 = matrix_1\n",
    "        self._matrix_2 = matrix_2\n",
    "        self._multiply_result = self._multiply()\n",
    "\n",
    "    # Такая реализация позволяет инициализировать класс и с предопределенными массивами,\n",
    "    # но появляется возможность ошибки несовпадения размерностей.\n",
    "    # Обработка ошибок не реализована.\n",
    "\n",
    "    def __call__(self, matrix_1, matrix_2):\n",
    "        # used in multiply_from_files() last line\n",
    "        self._matrix_1 = matrix_1\n",
    "        self._matrix_2 = matrix_2\n",
    "        self._multiply_result = self._multiply()\n",
    "\n",
    "    @property\n",
    "    def matrix_1(self):\n",
    "        \"\"\"Get matrix_1\"\"\"\n",
    "        return self._matrix_1\n",
    "\n",
    "    @property\n",
    "    def matrix_2(self):\n",
    "        \"\"\"Get matrix_2\"\"\"\n",
    "        return self._matrix_2\n",
    "\n",
    "    @property\n",
    "    def multiply_result(self):\n",
    "        \"\"\"Get multiply_result\"\"\"\n",
    "        return self._multiply_result\n",
    "\n",
    "    @classmethod\n",
    "    def generate_matrix(cls, n=5):\n",
    "        \"\"\" Task 1. Create 2 arrays of 5X5 size from random numbers.\"\"\"\n",
    "        #\n",
    "        # Дублирование кода сохранено. Из-за небольшого размера и использования только в одном месте\n",
    "        # создание отдельного метода на генерацию радномного массива не принципиально.\n",
    "        #\n",
    "        low, high = cls._RANDOM_LOW, cls._RANDOM_HIGH\n",
    "        matrix_1 = [[random.randint(low, high)\n",
    "                     for _ in range(n)] for _ in range(n)]\n",
    "        matrix_2 = [[random.randint(low, high)\n",
    "                     for _ in range(n)] for _ in range(n)]\n",
    "        return cls(matrix_1, matrix_2)\n",
    "\n",
    "    @staticmethod\n",
    "    def _to_file(matrix, filepath):\n",
    "        \"\"\"Save matrix to file\n",
    "\n",
    "        Example of writing matrix 3x3:\n",
    "        2 3 7\n",
    "        51 27 159\n",
    "        0 2 157\n",
    "        \"\"\"\n",
    "        data = \"\\n\".join(\" \".join(str(el) for el in row) for row in matrix)\n",
    "        with open(filepath, \"w\") as file_obj:\n",
    "            file_obj.write(data)\n",
    "        print(\"File\", filepath, \"created\")\n",
    "\n",
    "    @staticmethod\n",
    "    def _from_file(filepath):\n",
    "        \"\"\"Read matrix from file\n",
    "\n",
    "        For example matrix 3x3 should be written like:\n",
    "        2 3 7\n",
    "        51 27 159\n",
    "        0 2 157\n",
    "        \"\"\"\n",
    "        with open(filepath, \"r\") as file_obj:\n",
    "            data = file_obj.read()\n",
    "        matrix = [[int(el) for el in row.split(\" \")]\n",
    "                  for row in data.split(\"\\n\")]\n",
    "        return matrix\n",
    "\n",
    "    def write_two_matrixes(self, filepath_1=None, filepath_2=None):\n",
    "        \"\"\" Task 2. Write these arrays to different files.\"\"\"\n",
    "        self._to_file(self.matrix_1, filepath_1 or self._MATRIX_1_FILEPATH)\n",
    "        self._to_file(self.matrix_2, filepath_2 or self._MATRIX_2_FILEPATH)\n",
    "\n",
    "    def _multiply(self):\n",
    "        \"\"\"Multiply two matrixes\"\"\"\n",
    "        result = []\n",
    "        for i in range(len(self._matrix_1)):\n",
    "            result.append([])\n",
    "            for j in range(len(self._matrix_2[0])):\n",
    "                el = sum([self._matrix_1[i][k] * self._matrix_2[k][j]\n",
    "                          for k in range(len(self._matrix_2))])\n",
    "                result[i].append(el)\n",
    "        return result\n",
    "\n",
    "    def multiply_from_files(self, filepath_1=None, filepath_2=None):\n",
    "        \"\"\" Task 3. Reading from the files of the recorded matrixes and their multiplication.\"\"\"\n",
    "        matrix_1 = self._from_file(filepath_1 or self._MATRIX_1_FILEPATH)\n",
    "        matrix_2 = self._from_file(filepath_2 or self._MATRIX_2_FILEPATH)\n",
    "        self(matrix_1, matrix_2)\n",
    "\n",
    "    def io_multiply(self, filepath=None):\n",
    "        \"\"\" Task 4. Write and read the result of multiplication to a file.\"\"\"\n",
    "        self._to_file(self._multiply_result,\n",
    "                      filepath or self._MULTIPLY_RESULT_FILEPATH)\n",
    "\n",
    "        result = self._from_file(filepath or self._MULTIPLY_RESULT_FILEPATH)\n",
    "        return result == self._multiply_result\n",
    "\n",
    "    def check_numpy(self):\n",
    "        \"\"\" Task 5. Test matrixes multiplication with numpy.\"\"\"\n",
    "        matrix_1_np = np.array(self._matrix_1)\n",
    "        matrix_2_np = np.array(self._matrix_2)\n",
    "        return self._multiply_result == matrix_1_np.dot(matrix_2_np).tolist()\n"
   ]
  },
  {
   "cell_type": "code",
   "execution_count": 4,
   "metadata": {},
   "outputs": [
    {
     "name": "stdout",
     "output_type": "stream",
     "text": [
      "##################################################\n"
     ]
    }
   ],
   "source": [
    "####################################################\n",
    "# Checking of class public methods\n",
    "####################################################\n",
    "print(\"#\"*50)"
   ]
  },
  {
   "cell_type": "code",
   "execution_count": 5,
   "metadata": {},
   "outputs": [
    {
     "name": "stdout",
     "output_type": "stream",
     "text": [
      "Task 1. Create 2 arrays of 5X5 size from random numbers.\n",
      "matr.matrix_1:\n",
      "[[82, -10, -48, 40, 83], [-8, 3, -25, 10, -70], [-30, 80, 3, -57, 26], [78, 84, 26, -16, 100], [99, 42, -95, 2, 93]]\n",
      "matr.matrix_2:\n",
      "[[1, 90, 30, 96, 35], [-12, 71, -72, 8, -21], [7, 7, -22, 20, 42], [-34, 4, -77, -58, 5], [25, 33, -72, -63, 96]]\n",
      "##################################################\n"
     ]
    }
   ],
   "source": [
    "# Task 1. Create 2 arrays of 5X5 size from random numbers.\n",
    "print(\"Task 1. Create 2 arrays of 5X5 size from random numbers.\")\n",
    "matr = MatrixMultiply.generate_matrix()\n",
    "# matr = MatrixMultiply([[1, 0], [0, 1]], [[2, 5], [6, 10]])\n",
    "print(f\"matr.matrix_1:\\n{matr.matrix_1}\\nmatr.matrix_2:\\n{matr.matrix_2}\")\n",
    "print(\"#\"*50)"
   ]
  },
  {
   "cell_type": "code",
   "execution_count": 6,
   "metadata": {},
   "outputs": [
    {
     "name": "stdout",
     "output_type": "stream",
     "text": [
      "Task 2. Write these arrays to different files.\n",
      "File matrix_1.txt created\n",
      "File matrix_2.txt created\n",
      "##################################################\n"
     ]
    }
   ],
   "source": [
    "# Task 2. Write these arrays to different files.\n",
    "print(\"Task 2. Write these arrays to different files.\")\n",
    "matr.write_two_matrixes()\n",
    "print(\"#\"*50)"
   ]
  },
  {
   "cell_type": "code",
   "execution_count": 7,
   "metadata": {},
   "outputs": [
    {
     "name": "stdout",
     "output_type": "stream",
     "text": [
      "Task 3. Reading from the files of the recorded matrixes and their multiplication.\n",
      "matr.matrix_1:\n",
      "[[82, -10, -48, 40, 83], [-8, 3, -25, 10, -70], [-30, 80, 3, -57, 26], [78, 84, 26, -16, 100], [99, 42, -95, 2, 93]]\n",
      "matr.matrix_2:\n",
      "[[1, 90, 30, 96, 35], [-12, 71, -72, 8, -21], [7, 7, -22, 20, 42], [-34, 4, -77, -58, 5], [25, 33, -72, -63, 96]]\n",
      "matr.multiply_result:\n",
      "[[581, 9233, -4820, -717, 9232], [-2309, -2952, 4364, 2586, -8063], [1619, 3631, -4209, -512, -393], [2296, 16402, -10248, 3308, 11578], [1187, 14304, -4814, 1965, 7531]]\n",
      "##################################################\n"
     ]
    }
   ],
   "source": [
    "# Task 3. Reading from the files of the recorded matrixes and their multiplication.\n",
    "print(\"Task 3. Reading from the files of the recorded matrixes and their multiplication.\")\n",
    "matr.multiply_from_files()\n",
    "print(f\"matr.matrix_1:\\n{matr.matrix_1}\\nmatr.matrix_2:\\n{matr.matrix_2}\")\n",
    "print(f\"matr.multiply_result:\\n{matr.multiply_result}\")\n",
    "print(\"#\"*50)"
   ]
  },
  {
   "cell_type": "code",
   "execution_count": 8,
   "metadata": {},
   "outputs": [
    {
     "name": "stdout",
     "output_type": "stream",
     "text": [
      "Task 4. Write and read the result of multiplication to a file.\n",
      "File multiply_result.txt created\n",
      "Written and read matrix is EQUAL to the original: True\n",
      "##################################################\n"
     ]
    }
   ],
   "source": [
    "# Task 4. Write and read the result of multiplication to a file.\n",
    "print(\"Task 4. Write and read the result of multiplication to a file.\")\n",
    "print(\"Written and read matrix is EQUAL to the original:\", matr.io_multiply())\n",
    "print(\"#\"*50)"
   ]
  },
  {
   "cell_type": "code",
   "execution_count": 9,
   "metadata": {},
   "outputs": [
    {
     "name": "stdout",
     "output_type": "stream",
     "text": [
      "Task 5. Test matrixes multiplication with numpy.\n",
      "The result of multiplication MATCHES with the result of multiplication using numpy: True\n",
      "##################################################\n"
     ]
    }
   ],
   "source": [
    "# Task 5. Test matrixes multiplication with numpy.\n",
    "print(\"Task 5. Test matrixes multiplication with numpy.\")\n",
    "print(\"The result of multiplication MATCHES with the result of multiplication\",\n",
    "  \"using numpy:\", matr.check_numpy())\n",
    "print(\"#\"*50)"
   ]
  },
  {
   "cell_type": "code",
   "execution_count": null,
   "metadata": {},
   "outputs": [],
   "source": []
  },
  {
   "cell_type": "code",
   "execution_count": null,
   "metadata": {},
   "outputs": [],
   "source": []
  }
 ],
 "metadata": {
  "kernelspec": {
   "display_name": "Python 3",
   "language": "python",
   "name": "python3"
  },
  "language_info": {
   "codemirror_mode": {
    "name": "ipython",
    "version": 3
   },
   "file_extension": ".py",
   "mimetype": "text/x-python",
   "name": "python",
   "nbconvert_exporter": "python",
   "pygments_lexer": "ipython3",
   "version": "3.7.1"
  }
 },
 "nbformat": 4,
 "nbformat_minor": 2
}
