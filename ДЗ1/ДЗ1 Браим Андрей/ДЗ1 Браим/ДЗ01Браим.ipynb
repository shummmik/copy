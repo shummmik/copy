{
 "cells": [
  {
   "cell_type": "markdown",
   "metadata": {},
   "source": [
    "## Задание:\n",
    "1. Создание 2-x массивов размерностью 5X5 из случайных чисел.\n",
    "2. Запись этих массивов в разные файлы.\n",
    "3. Чтение из файла записанных масивов и их перемножение.\n",
    "4. Записи и чтения результата перемножения в файл."
   ]
  },
  {
   "cell_type": "code",
   "execution_count": 45,
   "metadata": {},
   "outputs": [],
   "source": [
    "from random import randint\n",
    "\n",
    "class Matrix:\n",
    "    \n",
    "    def __init__(self, matrix):\n",
    "        self.matrix = matrix\n",
    "\n",
    "        \n",
    "    @classmethod\n",
    "    def random(cls, size):\n",
    "        return cls([[randint(-100, 100) for i in range(size)] for j in range(size)])\n",
    "    \n",
    "        \n",
    "    def print(self, end='\\n'):\n",
    "        for line in self.matrix:\n",
    "            print('\\t'.join(str(i) for i in line))\n",
    "        print(end)\n",
    "            \n",
    "    \n",
    "    def write_to_file(self, destination):\n",
    "        with open(destination, 'w') as file:\n",
    "            for line in self.matrix:\n",
    "                file.write(\"\\t\".join(str(i) for i in line) + \"\\n\")\n",
    "                \n",
    "            \n",
    "    @classmethod\n",
    "    def read_from_file(cls, source):\n",
    "        with open(source, 'r') as file:\n",
    "            lines = file.readlines()\n",
    "        \n",
    "        return cls([[int(value) for value in line.rstrip().split(\"\\t\")] for line in lines])\n",
    "        \n",
    "    \n",
    "    def get_size(self, another_matrix):\n",
    "        dimensions = (len(self.matrix), len(another_matrix)) \\\n",
    "            + tuple(map(len, self.matrix)) \\\n",
    "            + tuple(map(len, another_matrix))\n",
    "        \n",
    "        if min(dimensions) != max(dimensions):\n",
    "            raise Exception('Matrix dimensions are not equel!')\n",
    "            \n",
    "        return min(dimensions)\n",
    "    \n",
    "    \n",
    "    def multiply(self, another_matrix):\n",
    "        try:\n",
    "            size = self.get_size(another_matrix.matrix)\n",
    "            return Matrix([[sum([self.matrix[k][i] * another_matrix.matrix[i][j] for i in range(size)]) for j in range(size)] for k in range(size)])\n",
    "        except Exception as error:\n",
    "            print(repr(error))\n",
    "            \n"
   ]
  },
  {
   "cell_type": "code",
   "execution_count": 46,
   "metadata": {},
   "outputs": [
    {
     "name": "stdout",
     "output_type": "stream",
     "text": [
      "2237\t5908\t-866\t8176\t-275\n",
      "-8114\t-4295\t-6802\t7515\t-7727\n",
      "179\t-732\t14659\t-3007\t-2519\n",
      "5681\t-11771\t-7518\t-9789\t-6394\n",
      "-9988\t3822\t5110\t-4220\t6970\n",
      "\n",
      "\n",
      "-3401\t7600\t5637\t-9250\t-6045\n",
      "-11766\t17548\t10026\t-5429\t-4283\n",
      "10371\t-4517\t-2596\t10428\t3693\n",
      "-17894\t15169\t-9296\t-6864\t4872\n",
      "-10498\t-503\t-14277\t-1303\t5095\n",
      "\n",
      "\n"
     ]
    }
   ],
   "source": [
    "size = 5\n",
    "\n",
    "A = Matrix.random(size)\n",
    "B = Matrix.random(size)\n",
    "\n",
    "A.write_to_file('A.txt')\n",
    "B.write_to_file('B.txt')\n",
    "\n",
    "A = Matrix.read_from_file('A.txt')\n",
    "B = Matrix.read_from_file('B.txt')\n",
    "\n",
    "C1 = A.multiply(B)\n",
    "C2 = B.multiply(A)\n",
    "\n",
    "C1.write_to_file('C1.txt')\n",
    "C2.write_to_file('C2.txt')\n",
    "\n",
    "C1 = Matrix.read_from_file('C1.txt')\n",
    "C2 = Matrix.read_from_file('C2.txt')\n",
    "\n",
    "C1.print()\n",
    "C2.print()"
   ]
  },
  {
   "cell_type": "markdown",
   "metadata": {},
   "source": [
    "#### Проверка"
   ]
  },
  {
   "cell_type": "code",
   "execution_count": 47,
   "metadata": {},
   "outputs": [
    {
     "name": "stdout",
     "output_type": "stream",
     "text": [
      "A * B:\n",
      "Our result:\n",
      "2237\t5908\t-866\t8176\t-275\n",
      "-8114\t-4295\t-6802\t7515\t-7727\n",
      "179\t-732\t14659\t-3007\t-2519\n",
      "5681\t-11771\t-7518\t-9789\t-6394\n",
      "-9988\t3822\t5110\t-4220\t6970\n",
      "\n",
      "\n",
      "Numpy result:\n",
      "[[  2237   5908   -866   8176   -275]\n",
      " [ -8114  -4295  -6802   7515  -7727]\n",
      " [   179   -732  14659  -3007  -2519]\n",
      " [  5681 -11771  -7518  -9789  -6394]\n",
      " [ -9988   3822   5110  -4220   6970]]\n",
      "\n",
      "Valid: True\n",
      "\n",
      "----------------------------------------------------------------------------------------------------\n",
      "\n",
      "B * A:\n",
      "Our result:\n",
      "-3401\t7600\t5637\t-9250\t-6045\n",
      "-11766\t17548\t10026\t-5429\t-4283\n",
      "10371\t-4517\t-2596\t10428\t3693\n",
      "-17894\t15169\t-9296\t-6864\t4872\n",
      "-10498\t-503\t-14277\t-1303\t5095\n",
      "\n",
      "\n",
      "Numpy result:\n",
      "[[ -3401   7600   5637  -9250  -6045]\n",
      " [-11766  17548  10026  -5429  -4283]\n",
      " [ 10371  -4517  -2596  10428   3693]\n",
      " [-17894  15169  -9296  -6864   4872]\n",
      " [-10498   -503 -14277  -1303   5095]]\n",
      "\n",
      "Valid: True\n"
     ]
    }
   ],
   "source": [
    "from numpy import matmul\n",
    "\n",
    "numpy_C1 = matmul(A.matrix, B.matrix)\n",
    "numpy_C2 = matmul(B.matrix, A.matrix)\n",
    "\n",
    "numpy_C1_list = list(list(line) for line in numpy_C1)\n",
    "numpy_C2_list = list(list(line) for line in numpy_C2)\n",
    "\n",
    "print('A * B:')\n",
    "print('Our result:')\n",
    "C1.print()\n",
    "\n",
    "print('Numpy result:')\n",
    "print(numpy_C1)\n",
    "\n",
    "print('\\nValid: ' + str(numpy_C1_list == C1.matrix))\n",
    "\n",
    "print(\"\\n\" + '-'*100 + '\\n')\n",
    "print('B * A:')\n",
    "print('Our result:')\n",
    "C2.print()\n",
    "\n",
    "print('Numpy result:')\n",
    "print(numpy_C2)\n",
    "\n",
    "print('\\nValid: ' + str(numpy_C2_list == C2.matrix))"
   ]
  },
  {
   "cell_type": "code",
   "execution_count": null,
   "metadata": {},
   "outputs": [],
   "source": []
  }
 ],
 "metadata": {
  "kernelspec": {
   "display_name": "Python 3",
   "language": "python",
   "name": "python3"
  },
  "language_info": {
   "codemirror_mode": {
    "name": "ipython",
    "version": 3
   },
   "file_extension": ".py",
   "mimetype": "text/x-python",
   "name": "python",
   "nbconvert_exporter": "python",
   "pygments_lexer": "ipython3",
   "version": "3.7.1"
  }
 },
 "nbformat": 4,
 "nbformat_minor": 2
}
