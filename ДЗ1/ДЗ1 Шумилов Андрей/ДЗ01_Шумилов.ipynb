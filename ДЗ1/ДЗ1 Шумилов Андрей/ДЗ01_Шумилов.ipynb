{
 "cells": [
  {
   "cell_type": "code",
   "execution_count": 1,
   "metadata": {},
   "outputs": [],
   "source": [
    "import numpy as np\n",
    "import random\n",
    "from itertools import starmap as smap\n",
    "from itertools import zip_longest as zipl\n",
    "\n",
    "\n",
    "class Matrix(object):\n",
    "    __obj = None\n",
    "\n",
    "    def __init__(self, matrix):\n",
    "\n",
    "        if self.__class__.__obj is None:\n",
    "            self.__class__.__obj = 0\n",
    "        else:\n",
    "            self.__class__.__obj += 1\n",
    "        self.__num = self.__class__.__obj\n",
    "        \n",
    "        if type(matrix) == list:\n",
    "            self.__matrix = matrix\n",
    "        else:\n",
    "            self.__matrix = [[random.randint(-10, 10) for j in range(matrix)] for i in range(matrix)]\n",
    "        print(self.get_matrix())\n",
    "\n",
    "    def get_number(self):\n",
    "        return self.__num\n",
    "\n",
    "    def get_matrix(self):\n",
    "        return self.__matrix\n",
    "    \n",
    "    def get_folder(self):\n",
    "        return self.__folder\n",
    "    \n",
    "    def get_transporate_matrix(self):\n",
    "        return [list(map(lambda x: x[i], self.get_matrix())) for i in range(len(self.get_matrix()))]\n",
    "    \n",
    "    def transporate_matrix(self):\n",
    "        self.__matrix = self.get_transporate_matrix()\n",
    "    \n",
    "    \n",
    "    def save(self, folder):\n",
    "        self.__folder = folder\n",
    "        print(self.__matrix)\n",
    "        with open(folder+'\\\\m%d.txt' % self.__num, 'w', encoding=\"utf-8\") as f:\n",
    "            for i in self.__matrix:\n",
    "                f.writelines('\\t'.join([str(j) for j in i]) + '\\n')\n",
    "\n",
    "    def read(self):\n",
    "        l = []\n",
    "        try:\n",
    "            with open(self.get_folder()+'\\\\m%d.txt' % self.__num, 'r', encoding=\"utf-8\") as f:\n",
    "                for line in f:\n",
    "                    l.append([int(i) for i in line[:-1].split('\\t')])\n",
    "        except Exception as e:\n",
    "            print(e)\n",
    "        print(l)\n",
    "        self.__matrix = l\n",
    "\n",
    "    def __mul__(self, other):\n",
    "        #транспорированная вторая матрица\n",
    "        mt = other.get_transporate_matrix()\n",
    "        m = [list(\n",
    "                smap(\n",
    "                    lambda x, y:sum(  #4#суммируем значения из #3 [(),()..()] и получаем элемент строки\n",
    "                                   list(\n",
    "                                       smap(\n",
    "                                           #3#перемножаем пару из #2 [][] -> [(),()..()]\n",
    "                                           lambda x1, y1: x1 * y1, \n",
    "                                           list(\n",
    "                                               #2#формируем из #1 поэлементные пары [[][], ..,[][]]\n",
    "                                               zip(x, y) \n",
    "                                               )\n",
    "                                           )\n",
    "                                       )\n",
    "                                   ),\n",
    "                    #1#формируем пары для строки первого массива и каждой строки транспорированного второго массива \n",
    "                    zipl(mt, '', fillvalue=i) \n",
    "                    )\n",
    "                ) \n",
    "             # для каждой строки первой матрицы\n",
    "             for i in self.get_matrix() \n",
    "            ]\n",
    "        return Matrix(m)\n",
    "\n",
    "    def __add__(self, other):\n",
    "        return Matrix(list(\n",
    "                        smap(\n",
    "                            lambda x, y:list(\n",
    "                                             smap(\n",
    "                                                  lambda x1, y1: x1 + y1, \n",
    "                                                  list(\n",
    "                                                       zip(x, y)\n",
    "                                                      )\n",
    "                                                 )\n",
    "                                            ),\n",
    "                            zip(\n",
    "                                self.get_matrix(), \n",
    "                                other.get_matrix()\n",
    "                               )\n",
    "                            )\n",
    "                        )\n",
    "                   )\n",
    "\n",
    "\n",
    "class Assistant(object):\n",
    "    def __init__(self, n, folder):\n",
    "        self.n = n\n",
    "        self.m1 = None\n",
    "        self.m2 = None\n",
    "        self.m3 = None\n",
    "        self.m4 = None\n",
    "        self.m5 = None\n",
    "        self.folder = folder\n",
    "\n",
    "    def create(self):\n",
    "        self.m1 = Matrix(self.n)\n",
    "        self.m2 = Matrix(self.n)\n",
    "\n",
    "    def save(self):\n",
    "        self.m1.save(self.folder)\n",
    "        self.m2.save(self.folder)\n",
    "\n",
    "    def read(self):\n",
    "        self.m1.read()\n",
    "        self.m2.read()\n",
    "\n",
    "    def multiply(self):\n",
    "        self.m3 = self.m1*self.m2\n",
    "\n",
    "    def finish(self):\n",
    "        self.m3.save(self.folder)\n",
    "        self.m3.read()\n",
    "        \n",
    "    def testMul(self):\n",
    "        print(self.m3.get_matrix())\n",
    "        a = np.matrix(self.m1.get_matrix())\n",
    "        b = np.matrix(self.m2.get_matrix())\n",
    "        try:\n",
    "            self.m5 = Matrix((a * b).tolist())\n",
    "            print(self.m5.get_matrix() == self.m3.get_matrix())\n",
    "        except Exception as e:\n",
    "            print(e)"
   ]
  },
  {
   "cell_type": "code",
   "execution_count": 2,
   "metadata": {},
   "outputs": [],
   "source": [
    "assistant = Assistant(5, 'd:\\\\')"
   ]
  },
  {
   "cell_type": "code",
   "execution_count": 3,
   "metadata": {},
   "outputs": [
    {
     "name": "stdout",
     "output_type": "stream",
     "text": [
      "[[-4, 0, 10, -9, -2], [7, 6, 0, 9, 6], [2, 0, 1, -7, -1], [4, 9, 4, -5, 0], [7, -8, 9, 7, -3]]\n",
      "[[1, 0, -6, 8, 2], [-3, 3, 5, -8, -8], [3, -9, -3, -6, 6], [-6, -7, 3, -8, -9], [-8, -8, -9, 0, -10]]\n"
     ]
    }
   ],
   "source": [
    "assistant.create()"
   ]
  },
  {
   "cell_type": "code",
   "execution_count": 4,
   "metadata": {},
   "outputs": [
    {
     "name": "stdout",
     "output_type": "stream",
     "text": [
      "[[-4, 0, 10, -9, -2], [7, 6, 0, 9, 6], [2, 0, 1, -7, -1], [4, 9, 4, -5, 0], [7, -8, 9, 7, -3]]\n",
      "[[1, 0, -6, 8, 2], [-3, 3, 5, -8, -8], [3, -9, -3, -6, 6], [-6, -7, 3, -8, -9], [-8, -8, -9, 0, -10]]\n"
     ]
    }
   ],
   "source": [
    "assistant.save()"
   ]
  },
  {
   "cell_type": "code",
   "execution_count": 5,
   "metadata": {},
   "outputs": [
    {
     "name": "stdout",
     "output_type": "stream",
     "text": [
      "[[-4, 0, 10, -9, -2], [7, 6, 0, 9, 6], [2, 0, 1, -7, -1], [4, 9, 4, -5, 0], [7, -8, 9, 7, -3]]\n",
      "[[1, 0, -6, 8, 2], [-3, 3, 5, -8, -8], [3, -9, -3, -6, 6], [-6, -7, 3, -8, -9], [-8, -8, -9, 0, -10]]\n"
     ]
    }
   ],
   "source": [
    "assistant.read()"
   ]
  },
  {
   "cell_type": "code",
   "execution_count": 6,
   "metadata": {},
   "outputs": [
    {
     "name": "stdout",
     "output_type": "stream",
     "text": [
      "[[96, -11, -15, -20, 153], [-113, -93, -39, -64, -175], [55, 48, -27, 66, 83], [19, 26, -6, -24, 5], [40, -130, -61, 10, 99]]\n"
     ]
    }
   ],
   "source": [
    "assistant.multiply()"
   ]
  },
  {
   "cell_type": "code",
   "execution_count": 7,
   "metadata": {},
   "outputs": [
    {
     "name": "stdout",
     "output_type": "stream",
     "text": [
      "[[96, -11, -15, -20, 153], [-113, -93, -39, -64, -175], [55, 48, -27, 66, 83], [19, 26, -6, -24, 5], [40, -130, -61, 10, 99]]\n",
      "[[96, -11, -15, -20, 153], [-113, -93, -39, -64, -175], [55, 48, -27, 66, 83], [19, 26, -6, -24, 5], [40, -130, -61, 10, 99]]\n"
     ]
    }
   ],
   "source": [
    "assistant.finish()"
   ]
  },
  {
   "cell_type": "code",
   "execution_count": 8,
   "metadata": {},
   "outputs": [
    {
     "name": "stdout",
     "output_type": "stream",
     "text": [
      "[[96, -11, -15, -20, 153], [-113, -93, -39, -64, -175], [55, 48, -27, 66, 83], [19, 26, -6, -24, 5], [40, -130, -61, 10, 99]]\n",
      "[[96, -11, -15, -20, 153], [-113, -93, -39, -64, -175], [55, 48, -27, 66, 83], [19, 26, -6, -24, 5], [40, -130, -61, 10, 99]]\n",
      "True\n"
     ]
    }
   ],
   "source": [
    "assistant.testMul()"
   ]
  },
  {
   "cell_type": "code",
   "execution_count": null,
   "metadata": {},
   "outputs": [],
   "source": []
  }
 ],
 "metadata": {
  "kernelspec": {
   "display_name": "Python 3",
   "language": "python",
   "name": "python3"
  },
  "language_info": {
   "codemirror_mode": {
    "name": "ipython",
    "version": 3
   },
   "file_extension": ".py",
   "mimetype": "text/x-python",
   "name": "python",
   "nbconvert_exporter": "python",
   "pygments_lexer": "ipython3",
   "version": "3.7.1"
  }
 },
 "nbformat": 4,
 "nbformat_minor": 2
}
