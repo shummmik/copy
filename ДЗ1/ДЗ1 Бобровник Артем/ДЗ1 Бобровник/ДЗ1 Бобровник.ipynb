{
 "cells": [
  {
   "cell_type": "code",
   "execution_count": 1,
   "metadata": {},
   "outputs": [],
   "source": [
    "from random import randint\n",
    "import numpy as np\n",
    "from functools import reduce\n",
    "import unittest"
   ]
  },
  {
   "cell_type": "code",
   "execution_count": 2,
   "metadata": {},
   "outputs": [],
   "source": [
    "class TooManyParams(Exception):\n",
    "    def __init__(self):\n",
    "        Exception.__init__(self, 'Too many parameters were given. You must specify just 1: size or new_matrix')\n",
    "        \n",
    "class NotEnoughParams(Exception):\n",
    "    def __init__(self):\n",
    "        Exception.__init__(self, \"0 parameters were given. You must specify just 1: size or new_matrix\")\n",
    "        \n",
    "class DimensionsAreNotEqual(Exception):\n",
    "    def __init__(self):\n",
    "        Exception.__init__(self, \"Dimensions of the matrices are not equal.\")"
   ]
  },
  {
   "cell_type": "code",
   "execution_count": 3,
   "metadata": {},
   "outputs": [],
   "source": [
    "class MatrixService:\n",
    "    \n",
    "    @staticmethod\n",
    "    def create_matrix(size):\n",
    "        matrix = [[randint(0, 50) for i in range(size)] for i in range(size)]\n",
    "        return matrix\n",
    "    \n",
    "    @staticmethod\n",
    "    def np_check(matrix_a, matrix_b):\n",
    "\n",
    "        size = len(matrix_a)\n",
    "        matrix_a = np.array(matrix_a)\n",
    "        matrix_b = np.array(matrix_b)\n",
    "\n",
    "        if matrix_a.shape == matrix_b.shape:\n",
    "            result = matrix_a.dot(matrix_b)\n",
    "            return result\n",
    "\n",
    "        else:\n",
    "            raise DimensionsAreNotEqual\n",
    " \n",
    "        \n",
    "    @staticmethod\n",
    "    def multiply_ab_matrices(matrix_a, matrix_b):\n",
    "        \n",
    "        size = len(matrix_a)\n",
    "        a = np.array(matrix_a)\n",
    "        b = np.array(matrix_b)\n",
    "        if a.shape == b.shape:\n",
    "            result = [[reduce(lambda x,y: x+y, [matrix_a[k][j] * matrix_b[j][i] for j in range(size)]) for i in range(size)] for k in range(size)]\n",
    "            return result\n",
    "        else:\n",
    "            raise DimensionsAreNotEqual"
   ]
  },
  {
   "cell_type": "code",
   "execution_count": 4,
   "metadata": {},
   "outputs": [],
   "source": [
    "class FileService:\n",
    "    \n",
    "    @staticmethod\n",
    "    def write_to_file(matrix, file_name):\n",
    "        \n",
    "        with open(file_name, 'w') as file:\n",
    "            data = '\\n'.join(['\\t'.join([str(i) for i in line]) for line in matrix])\n",
    "            file.write(data)\n",
    "    \n",
    "    @staticmethod\n",
    "    def read_from_file(file_name):\n",
    "        \n",
    "        with open(file_name, 'r') as file:\n",
    "            lines = file.readlines()\n",
    "            lines = [l.strip().split('\\t') for l in lines]\n",
    "            matrix = [[int(i) for i in line] for line in lines]\n",
    "        return matrix"
   ]
  },
  {
   "cell_type": "code",
   "execution_count": 5,
   "metadata": {},
   "outputs": [],
   "source": [
    "class Matrix:\n",
    "    \n",
    "    def __new__(cls, *args, **kwargs):\n",
    "        size = kwargs.get('size', None)\n",
    "        new_matrix = kwargs.get('new_matrix', None)\n",
    "\n",
    "        if not size and not isinstance(new_matrix, (np.ndarray, list)):\n",
    "            raise NotEnoughParams\n",
    "        elif size and isinstance(new_matrix, (np.ndarray, list)):\n",
    "            raise TooManyParams\n",
    "        else:\n",
    "            __obj = object.__new__(cls)\n",
    "            return __obj\n",
    "    \n",
    "    def __init__(self, size=None, new_matrix=None):\n",
    "        self.__matrix = MatrixService.create_matrix(size) if size else new_matrix \n",
    "    \n",
    "    @property\n",
    "    def matrix(self):\n",
    "        return self.__matrix    \n",
    "\n",
    "    def __mul__(self, other):\n",
    "        result = MatrixService.multiply_ab_matrices(self.__matrix, other.matrix)\n",
    "        return result"
   ]
  },
  {
   "cell_type": "code",
   "execution_count": 6,
   "metadata": {},
   "outputs": [],
   "source": [
    "a = Matrix(size=5)"
   ]
  },
  {
   "cell_type": "code",
   "execution_count": 7,
   "metadata": {},
   "outputs": [
    {
     "data": {
      "text/plain": [
       "[[14, 48, 47, 4, 16],\n",
       " [48, 37, 2, 35, 48],\n",
       " [33, 24, 8, 19, 7],\n",
       " [39, 4, 14, 40, 33],\n",
       " [9, 44, 30, 5, 31]]"
      ]
     },
     "execution_count": 7,
     "metadata": {},
     "output_type": "execute_result"
    }
   ],
   "source": [
    "a.matrix"
   ]
  },
  {
   "cell_type": "code",
   "execution_count": 8,
   "metadata": {},
   "outputs": [],
   "source": [
    "b = Matrix(size=5)"
   ]
  },
  {
   "cell_type": "code",
   "execution_count": 9,
   "metadata": {},
   "outputs": [
    {
     "data": {
      "text/plain": [
       "[[17, 35, 45, 1, 45],\n",
       " [49, 31, 9, 2, 25],\n",
       " [43, 5, 49, 34, 10],\n",
       " [49, 25, 29, 34, 43],\n",
       " [2, 1, 8, 23, 15]]"
      ]
     },
     "execution_count": 9,
     "metadata": {},
     "output_type": "execute_result"
    }
   ],
   "source": [
    "b.matrix"
   ]
  },
  {
   "cell_type": "code",
   "execution_count": 10,
   "metadata": {},
   "outputs": [],
   "source": [
    "FileService.write_to_file(a.matrix, 'matrix_a.txt')\n",
    "FileService.write_to_file(b.matrix, 'matrix_b.txt')"
   ]
  },
  {
   "cell_type": "code",
   "execution_count": 11,
   "metadata": {},
   "outputs": [],
   "source": [
    "a = Matrix(new_matrix=FileService.read_from_file('matrix_a.txt'))\n",
    "b = Matrix(new_matrix=FileService.read_from_file('matrix_b.txt'))"
   ]
  },
  {
   "cell_type": "code",
   "execution_count": 12,
   "metadata": {},
   "outputs": [
    {
     "data": {
      "text/plain": [
       "[[14, 48, 47, 4, 16],\n",
       " [48, 37, 2, 35, 48],\n",
       " [33, 24, 8, 19, 7],\n",
       " [39, 4, 14, 40, 33],\n",
       " [9, 44, 30, 5, 31]]"
      ]
     },
     "execution_count": 12,
     "metadata": {},
     "output_type": "execute_result"
    }
   ],
   "source": [
    "a.matrix"
   ]
  },
  {
   "cell_type": "code",
   "execution_count": 13,
   "metadata": {},
   "outputs": [
    {
     "data": {
      "text/plain": [
       "[[17, 35, 45, 1, 45],\n",
       " [49, 31, 9, 2, 25],\n",
       " [43, 5, 49, 34, 10],\n",
       " [49, 25, 29, 34, 43],\n",
       " [2, 1, 8, 23, 15]]"
      ]
     },
     "execution_count": 13,
     "metadata": {},
     "output_type": "execute_result"
    }
   ],
   "source": [
    "b.matrix"
   ]
  },
  {
   "cell_type": "code",
   "execution_count": 14,
   "metadata": {},
   "outputs": [],
   "source": [
    "result1 = Matrix(new_matrix=MatrixService.multiply_ab_matrices(a.matrix, b.matrix))"
   ]
  },
  {
   "cell_type": "code",
   "execution_count": 15,
   "metadata": {},
   "outputs": [
    {
     "data": {
      "text/plain": [
       "[[4839, 2329, 3609, 2212, 2712],\n",
       " [4526, 3760, 3990, 2484, 5330],\n",
       " [3026, 2421, 2700, 1160, 3087],\n",
       " [3487, 2592, 3901, 2642, 4210],\n",
       " [3906, 1985, 2664, 2000, 2485]]"
      ]
     },
     "execution_count": 15,
     "metadata": {},
     "output_type": "execute_result"
    }
   ],
   "source": [
    "result1.matrix"
   ]
  },
  {
   "cell_type": "code",
   "execution_count": 16,
   "metadata": {},
   "outputs": [],
   "source": [
    "result2 = Matrix(new_matrix=a*b)"
   ]
  },
  {
   "cell_type": "code",
   "execution_count": 17,
   "metadata": {},
   "outputs": [
    {
     "data": {
      "text/plain": [
       "[[4839, 2329, 3609, 2212, 2712],\n",
       " [4526, 3760, 3990, 2484, 5330],\n",
       " [3026, 2421, 2700, 1160, 3087],\n",
       " [3487, 2592, 3901, 2642, 4210],\n",
       " [3906, 1985, 2664, 2000, 2485]]"
      ]
     },
     "execution_count": 17,
     "metadata": {},
     "output_type": "execute_result"
    }
   ],
   "source": [
    "result2.matrix"
   ]
  },
  {
   "cell_type": "code",
   "execution_count": 18,
   "metadata": {},
   "outputs": [],
   "source": [
    "FileService.write_to_file(result1.matrix, 'matrix_result.txt')\n",
    "result = Matrix(new_matrix=FileService.read_from_file('matrix_result.txt'))"
   ]
  },
  {
   "cell_type": "code",
   "execution_count": 19,
   "metadata": {},
   "outputs": [
    {
     "data": {
      "text/plain": [
       "[[4839, 2329, 3609, 2212, 2712],\n",
       " [4526, 3760, 3990, 2484, 5330],\n",
       " [3026, 2421, 2700, 1160, 3087],\n",
       " [3487, 2592, 3901, 2642, 4210],\n",
       " [3906, 1985, 2664, 2000, 2485]]"
      ]
     },
     "execution_count": 19,
     "metadata": {},
     "output_type": "execute_result"
    }
   ],
   "source": [
    "result.matrix"
   ]
  },
  {
   "cell_type": "code",
   "execution_count": 20,
   "metadata": {},
   "outputs": [],
   "source": [
    "np_result = Matrix(new_matrix=MatrixService.np_check(a.matrix, b.matrix))"
   ]
  },
  {
   "cell_type": "code",
   "execution_count": 21,
   "metadata": {},
   "outputs": [
    {
     "data": {
      "text/plain": [
       "array([[2775, 2589, 3273, 2932, 1870],\n",
       "       [1058, 1795, 1090, 2597, 1175],\n",
       "       [3262, 1883, 3567, 2360, 1370],\n",
       "       [3739, 3816, 4265, 4978, 2736],\n",
       "       [4848, 3503, 5530, 5169, 2279]])"
      ]
     },
     "execution_count": 21,
     "metadata": {},
     "output_type": "execute_result"
    }
   ],
   "source": [
    "np_result.matrix"
   ]
  },
  {
   "cell_type": "code",
   "execution_count": 249,
   "metadata": {},
   "outputs": [
    {
     "name": "stderr",
     "output_type": "stream",
     "text": [
      "....\n",
      "----------------------------------------------------------------------\n",
      "Ran 4 tests in 0.004s\n",
      "\n",
      "OK\n"
     ]
    }
   ],
   "source": [
    "class TestMatrixesMultiplication(unittest.TestCase):\n",
    "    def test_multiplication(self):\n",
    "        \n",
    "        a = Matrix(size=5)\n",
    "        b = Matrix(size=5)\n",
    "        \n",
    "        result = Matrix(new_matrix=MatrixService.multiply_ab_matrices(a.matrix, b.matrix))\n",
    "        np_result = Matrix(new_matrix=MatrixService.np_check(a.matrix, b.matrix))\n",
    "        \n",
    "        check = np_result.matrix == result.matrix\n",
    "        self.assertTrue(check.all())\n",
    "        \n",
    "    def test_TooManyParams(self):\n",
    "        with self.assertRaises(TooManyParams):\n",
    "            m = Matrix(size=5, new_matrix=[1, 2, 3])\n",
    "    \n",
    "    def test_NotEnoughParams(self):\n",
    "        with self.assertRaises(NotEnoughParams):\n",
    "            m = Matrix()\n",
    "    \n",
    "    def test_DimensionsAreNotEqual(self):\n",
    "        a = Matrix(size=5)\n",
    "        b = Matrix(size=6)\n",
    "        with self.assertRaises(DimensionsAreNotEqual):\n",
    "            m = a * b\n",
    "\n",
    "if __name__ == '__main__':\n",
    "    unittest.main(argv=['first-arg-is-ignored'], exit=False)"
   ]
  }
 ],
 "metadata": {
  "kernelspec": {
   "display_name": "Python 3",
   "language": "python",
   "name": "python3"
  },
  "language_info": {
   "codemirror_mode": {
    "name": "ipython",
    "version": 3
   },
   "file_extension": ".py",
   "mimetype": "text/x-python",
   "name": "python",
   "nbconvert_exporter": "python",
   "pygments_lexer": "ipython3",
   "version": "3.6.4"
  }
 },
 "nbformat": 4,
 "nbformat_minor": 2
}
