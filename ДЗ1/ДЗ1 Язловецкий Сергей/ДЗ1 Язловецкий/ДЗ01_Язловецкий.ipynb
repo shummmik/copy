{
 "cells": [
  {
   "cell_type": "code",
   "execution_count": 1,
   "metadata": {},
   "outputs": [],
   "source": [
    "import random as rd\n",
    "from functools import reduce\n",
    "import numpy as np\n",
    "\n",
    "class MatrixMultiplier:\n",
    "    \n",
    "    def __array_to_string(self, local_array):\n",
    "        result = reduce(lambda one, two : str(one) + \" \" + str(two), local_array)\n",
    "        return result\n",
    "\n",
    "    def write_matrix_to_file(self, matrix, file_name):\n",
    "        with open(file_name, \"w\") as file_obj:\n",
    "            file_obj.writelines(\"%s\\n\" % digitsLine for digitsLine in map(self.__array_to_string, matrix))\n",
    "    \n",
    "    def read_matrix_from_file(self, file_name):\n",
    "        convert_lambda = lambda item : float(item)\n",
    "        split_convert_lambda = lambda line : list(map(convert_lambda, line.strip(\"\\n\").split(\" \")))\n",
    "        with open(file_name, \"r\") as fa:\n",
    "            f_list = fa.readlines()\n",
    "            return [split_convert_lambda(line) for line in f_list]\n",
    "        \n",
    "    def multiply_matrixes(self, a, b):\n",
    "        result = []\n",
    "        size = len(a[0])\n",
    "        sum_lambda = lambda m, n : m + n\n",
    "        multiply_lambda = lambda itemA, itemB: itemA * itemB\n",
    "        for lineA in a:\n",
    "            line_result = []\n",
    "            for columnIndex in range(size):\n",
    "                columnB = [lineB[columnIndex] for lineB in b]\n",
    "                element_result = reduce(sum_lambda, list(map(multiply_lambda, lineA, columnB)))\n",
    "                line_result.append(element_result)       \n",
    "            result.append(line_result)\n",
    "        return result    \n",
    "    \n",
    "    def process(self):\n",
    "        a_initial = [[rd.random() for j in range(5)] for i in range(5)]\n",
    "        self.write_matrix_to_file(a_initial, 'a_matrix.txt')\n",
    "        a = self.read_matrix_from_file('a_matrix.txt')\n",
    "        print(\"Generated matrix A :\\n%s\\n\" % a)\n",
    "        \n",
    "        b_initial = [[rd.random() for j in range(5)] for i in range(5)]\n",
    "        self.write_matrix_to_file(b_initial, 'b_matrix.txt')\n",
    "        b = self.read_matrix_from_file('b_matrix.txt')\n",
    "        print(\"Generated matrix B :\\n%s\\n\" % b)\n",
    "        \n",
    "        result_initial = self.multiply_matrixes(a, b)\n",
    "        self.write_matrix_to_file(result_initial, 'result_matrix.txt')\n",
    "        result = self.read_matrix_from_file('result_matrix.txt')\n",
    "        print(\"Result matrix :\\n%s\\n\" % result)\n",
    "        \n",
    "        np_result = np.dot(a, b)\n",
    "        print(\"Result matrix with Numpy:\\n%s\\n\" % np_result)\n"
   ]
  },
  {
   "cell_type": "code",
   "execution_count": 2,
   "metadata": {},
   "outputs": [
    {
     "name": "stdout",
     "output_type": "stream",
     "text": [
      "Generated matrix A :\n",
      "[[0.6069920180028162, 0.45480348108572244, 0.6656847278692094, 0.8894089798322581, 0.6703956517376463], [0.566924683545703, 0.18151125318030614, 0.912194339581044, 0.32592309808452324, 0.17969498076673118], [0.40913363294757543, 0.29664702561903633, 0.16761931920070616, 0.7624748333911928, 0.16845900369786992], [0.9902578926522728, 0.39030348906404855, 0.10049520700437509, 0.1854583721134646, 0.16108774073182108], [0.279867231021683, 0.6945162900587678, 0.8964655939751959, 0.27835079159425624, 0.427606044418369]]\n",
      "\n",
      "Generated matrix B :\n",
      "[[0.1853607207019965, 0.6077504314701737, 0.6538468044906252, 0.26574070151725726, 0.6078079703211493], [0.7392285489895677, 0.09511119608742724, 0.048671563143728225, 0.07382148631610785, 0.8302705306183615], [0.775184227254859, 0.4652155407265913, 0.34621607186681824, 0.2333489620611967, 0.6243386642289583], [0.587971552127075, 0.3106839526858616, 0.28592250723294377, 0.9929938898407332, 0.7074565428886991], [0.3497864793372101, 0.21988470960271111, 0.9346724569156113, 0.5579394555816705, 0.5775166437133838]]\n",
      "\n",
      "Result matrix :\n",
      "[[1.7221870098164351, 1.1455782951498978, 1.5303889356390203, 1.6074314614409357, 2.1785400766648966], [1.2008709170057112, 0.9269507114127096, 0.9564773687106745, 0.8008125606407316, 1.399156251616331], [0.9323013008675896, 0.6287749617629701, 0.7154442021549625, 1.0208589526589373, 1.2363288763372606], [0.7153712585352348, 0.7787434964733824, 0.9048576926068232, 0.5894512996933556, 1.212921758253377], [1.5734418095089295, 0.8336985865684773, 1.0064226330123438, 0.8498105738956121, 1.7503107701222298]]\n",
      "\n",
      "Result matrix with Numpy:\n",
      "[[1.72218701 1.1455783  1.53038894 1.60743146 2.17854008]\n",
      " [1.20087092 0.92695071 0.95647737 0.80081256 1.39915625]\n",
      " [0.9323013  0.62877496 0.7154442  1.02085895 1.23632888]\n",
      " [0.71537126 0.7787435  0.90485769 0.5894513  1.21292176]\n",
      " [1.57344181 0.83369859 1.00642263 0.84981057 1.75031077]]\n",
      "\n"
     ]
    }
   ],
   "source": [
    "multiplier = MatrixMultiplier()\n",
    "multiplier.process()"
   ]
  },
  {
   "cell_type": "code",
   "execution_count": 3,
   "metadata": {},
   "outputs": [],
   "source": [
    "ds = [[1.7221870098164351, 1.1455782951498978, 1.5303889356390203, 1.6074314614409357, 2.1785400766648966], [1.2008709170057112, 0.9269507114127096, 0.9564773687106745, 0.8008125606407316, 1.399156251616331], [0.9323013008675896, 0.6287749617629701, 0.7154442021549625, 1.0208589526589373, 1.2363288763372606], [0.7153712585352348, 0.7787434964733824, 0.9048576926068232, 0.5894512996933556, 1.212921758253377], [1.5734418095089295, 0.8336985865684773, 1.0064226330123438, 0.8498105738956121, 1.7503107701222298]]"
   ]
  },
  {
   "cell_type": "code",
   "execution_count": 4,
   "metadata": {},
   "outputs": [],
   "source": [
    "def array_to_string(local_array):\n",
    "    result = reduce(lambda one, two : str(one) + \" \" + str(two), local_array)\n",
    "    return result"
   ]
  },
  {
   "cell_type": "code",
   "execution_count": 5,
   "metadata": {},
   "outputs": [
    {
     "data": {
      "text/plain": [
       "'[1.7221870098164351, 1.1455782951498978, 1.5303889356390203, 1.6074314614409357, 2.1785400766648966] [1.2008709170057112, 0.9269507114127096, 0.9564773687106745, 0.8008125606407316, 1.399156251616331] [0.9323013008675896, 0.6287749617629701, 0.7154442021549625, 1.0208589526589373, 1.2363288763372606] [0.7153712585352348, 0.7787434964733824, 0.9048576926068232, 0.5894512996933556, 1.212921758253377] [1.5734418095089295, 0.8336985865684773, 1.0064226330123438, 0.8498105738956121, 1.7503107701222298]'"
      ]
     },
     "execution_count": 5,
     "metadata": {},
     "output_type": "execute_result"
    }
   ],
   "source": [
    "array_to_string(ds)"
   ]
  },
  {
   "cell_type": "code",
   "execution_count": 6,
   "metadata": {},
   "outputs": [],
   "source": [
    "?sum"
   ]
  },
  {
   "cell_type": "code",
   "execution_count": null,
   "metadata": {},
   "outputs": [],
   "source": []
  }
 ],
 "metadata": {
  "kernelspec": {
   "display_name": "Python 3",
   "language": "python",
   "name": "python3"
  },
  "language_info": {
   "codemirror_mode": {
    "name": "ipython",
    "version": 3
   },
   "file_extension": ".py",
   "mimetype": "text/x-python",
   "name": "python",
   "nbconvert_exporter": "python",
   "pygments_lexer": "ipython3",
   "version": "3.7.1"
  }
 },
 "nbformat": 4,
 "nbformat_minor": 2
}
