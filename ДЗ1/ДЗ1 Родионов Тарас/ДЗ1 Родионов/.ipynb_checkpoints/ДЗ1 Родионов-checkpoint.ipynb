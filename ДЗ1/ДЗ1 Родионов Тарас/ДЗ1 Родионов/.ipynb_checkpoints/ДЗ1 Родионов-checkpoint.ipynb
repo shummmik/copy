{
 "cells": [
  {
   "cell_type": "code",
   "execution_count": 1,
   "metadata": {
    "scrolled": true
   },
   "outputs": [],
   "source": [
    "import numpy as np\n",
    "import random as rnd\n",
    "\n",
    "N = 5 #мерность матриц\n",
    "TO_DIR = r''\n",
    "\n",
    "def nice_m(m): #возвращает строку с массивом m без скобок и запятых\n",
    "    s = ''\n",
    "    for i in map(str, m):\n",
    "        s += i + ';'\n",
    "    return s\n",
    "\n",
    "#возвращает массив из случайных чисел из n на n элементов\n",
    "random_m = lambda n: ([rnd.randint(-333, 333) for i in range(n)] for i in range(n)) \n",
    "\n",
    "#возвращает списком столбец j матрицы m\n",
    "mj_coloumn = lambda m, j: list(m[i][j] for i in range(N)) \n",
    "\n",
    "#возвращает сумму произведений двух массивов\n",
    "m_sum = lambda m1, m2: sum(x * y for x, y in zip(m1, m2))\n",
    "\n",
    "def save_to_f(f_name, m): #сохраняет матрицу в файл\n",
    "    with open(TO_DIR + f_name +'.txt', 'w') as file:\n",
    "        file.writelines((i + '\\n') for i in map(nice_m, m))\n",
    "        \n",
    "def load_from_f(f_name, m): #загружает матрицу из файла\n",
    "    m = []\n",
    "    with open(TO_DIR + f_name +'.txt', 'r') as file:\n",
    "        for j in range(N):\n",
    "            m.append([int(i) for i in str(file.readline().rstrip('\\n')).split(';')[:-1]])\n",
    "            \n",
    "class mas:\n",
    "    def _init_(self, m1, m2): #объект из 2-х массивов\n",
    "        self.m1 = []\n",
    "        self.m2 = []\n",
    "        self.m1m2 = []\n",
    "    \n",
    "    def m_random(self): #формирует матрицы случайных значений\n",
    "        self.m1 = list(random_m(N))\n",
    "        self.m2 = list(random_m(N))\n",
    "        self.m1m2 = []\n",
    "\n",
    "    def in_file(self, f_m1 = 'm1', f_m2 = 'm2'): #записывает массивы в файлы\n",
    "        save_to_f(f_m1, self.m1)\n",
    "        save_to_f(f_m2, self.m2)\n",
    "                \n",
    "    def from_file(self, f_m1 = 'm1', f_m2 = 'm2'): #получает значения массивов из файлов\n",
    "        load_from_f(f_m1, self.m1)\n",
    "        load_from_f(f_m2, self.m2)\n",
    "    \n",
    "    def m1_m2(self): #произведение матриц\n",
    "        self.m1m2 = [[m_sum(self.m1[i], mj_coloumn(self.m2, j)) for j in range(N)] for i in range(N)]\n",
    "    \n",
    "    def m1m2_in_f(self, f_m1m2 = 'm1m2'): #записывает результат перемножения в файл\n",
    "        save_to_f(f_m1m2, self.m1m2)\n",
    "    \n",
    "    def m1m2_from_f(self, f_m1m2 = 'm1m2'): #возвращает матрицу перемножения из файла\n",
    "        load_from_f(f_m1m2, self.m1m2)\n",
    "        \n",
    "    def test(self):\n",
    "        if (np.array(self.m1m2) == np.dot(np.array(self.m1), np.array(self.m2))).all():\n",
    "            print('Numpy - OK')\n",
    "        else:\n",
    "            print('Numpy - ERROR')"
   ]
  },
  {
   "cell_type": "code",
   "execution_count": 2,
   "metadata": {},
   "outputs": [
    {
     "name": "stdout",
     "output_type": "stream",
     "text": [
      "m1:\n",
      "[[278, 96, 233, 62, -280], [18, 311, 278, -17, 153], [-84, 157, -283, -10, -287], [-304, -235, -324, 76, 251], [-14, -84, -108, -267, -150]]\n",
      "m2:\n",
      "[[18, -227, 41, -126, 24], [220, 288, -139, -232, 281], [265, -135, -14, -12, 105], [179, -172, 321, 194, -133], [54, 118, 238, 111, 104]]\n"
     ]
    }
   ],
   "source": [
    "#формирование матриц\n",
    "obj = mas()\n",
    "obj.m_random()\n",
    "print('m1:')\n",
    "print(obj.m1)\n",
    "print('m2:')\n",
    "print(obj.m2)"
   ]
  },
  {
   "cell_type": "code",
   "execution_count": 3,
   "metadata": {},
   "outputs": [
    {
     "name": "stdout",
     "output_type": "stream",
     "text": [
      "m1:\n",
      "[[278, 96, 233, 62, -280], [18, 311, 278, -17, 153], [-84, 157, -283, -10, -287], [-304, -235, -324, 76, 251], [-14, -84, -108, -267, -150]]\n",
      "m2:\n",
      "[[18, -227, 41, -126, 24], [220, 288, -139, -232, 281], [265, -135, -14, -12, 105], [179, -172, 321, 194, -133], [54, 118, 238, 111, 104]]\n"
     ]
    }
   ],
   "source": [
    "#запись матриц в файл\n",
    "obj.in_file()\n",
    "#чтение из файла\n",
    "obj.from_file()\n",
    "print('m1:')\n",
    "print(obj.m1)\n",
    "print('m2:')\n",
    "print(obj.m2)"
   ]
  },
  {
   "cell_type": "code",
   "execution_count": 4,
   "metadata": {},
   "outputs": [
    {
     "name": "stdout",
     "output_type": "stream",
     "text": [
      "m1 x m2:\n",
      "[[83847, -110617, -51946, -79148, 20747], [147633, 68930, -15426, -64071, 135186], [-59255, 70343, -92821, -56241, -16132], [-115874, 61614, 108871, 139317, -91355], [-103245, 21790, -108793, -45900, -15369]]\n"
     ]
    }
   ],
   "source": [
    "#перемножение матриц\n",
    "obj.m1_m2()\n",
    "print('m1 x m2:')\n",
    "print(obj.m1m2)"
   ]
  },
  {
   "cell_type": "code",
   "execution_count": 5,
   "metadata": {},
   "outputs": [
    {
     "name": "stdout",
     "output_type": "stream",
     "text": [
      "m1 x m2:\n",
      "[[83847, -110617, -51946, -79148, 20747], [147633, 68930, -15426, -64071, 135186], [-59255, 70343, -92821, -56241, -16132], [-115874, 61614, 108871, 139317, -91355], [-103245, 21790, -108793, -45900, -15369]]\n"
     ]
    }
   ],
   "source": [
    "#запись матрицы в файл\n",
    "obj.m1m2_in_f()\n",
    "#чтение из файла\n",
    "obj.m1m2_from_f()\n",
    "print('m1 x m2:')\n",
    "print(obj.m1m2)"
   ]
  },
  {
   "cell_type": "code",
   "execution_count": 6,
   "metadata": {},
   "outputs": [
    {
     "name": "stdout",
     "output_type": "stream",
     "text": [
      "Numpy - OK\n"
     ]
    }
   ],
   "source": [
    "#сверка результата перемножения матриц с результатом Numpy\n",
    "obj.test()"
   ]
  },
  {
   "cell_type": "code",
   "execution_count": null,
   "metadata": {},
   "outputs": [],
   "source": []
  },
  {
   "cell_type": "code",
   "execution_count": null,
   "metadata": {},
   "outputs": [],
   "source": []
  }
 ],
 "metadata": {
  "kernelspec": {
   "display_name": "Python 3",
   "language": "python",
   "name": "python3"
  },
  "language_info": {
   "codemirror_mode": {
    "name": "ipython",
    "version": 3
   },
   "file_extension": ".py",
   "mimetype": "text/x-python",
   "name": "python",
   "nbconvert_exporter": "python",
   "pygments_lexer": "ipython3",
   "version": "3.7.1"
  }
 },
 "nbformat": 4,
 "nbformat_minor": 2
}
