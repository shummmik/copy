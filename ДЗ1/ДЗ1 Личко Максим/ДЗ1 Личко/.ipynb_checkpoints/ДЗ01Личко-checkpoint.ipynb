{
 "cells": [
  {
   "cell_type": "markdown",
   "metadata": {},
   "source": [
    "#### Задание:\n",
    "1. Создание 2-x массивов размерностью 5X5 из случайных чисел.\n",
    "2. Запись этих массивов в разные файлы.\n",
    "3. Чтение из файла записанных масивов и их перемножение.\n",
    "4. Записи и чтения результата перемножения в файл."
   ]
  },
  {
   "cell_type": "code",
   "execution_count": 1,
   "metadata": {},
   "outputs": [],
   "source": [
    "import random\n",
    "import numpy as np"
   ]
  },
  {
   "cell_type": "code",
   "execution_count": 2,
   "metadata": {},
   "outputs": [],
   "source": [
    "class Matrix(object):\n",
    "    \n",
    "    def __init__(self, matrix=[], size=5):\n",
    "        self.matr = matrix\n",
    "        self.size = size\n",
    "    \n",
    "    def generate(self):\n",
    "        self.matr = [[random.randint(-5, 5) for j in range(self.size)] for i in range(self.size)]\n",
    "    \n",
    "    def write_to_file(self, file_name):\n",
    "        file = open(file_name, 'w')\n",
    "        for i in range(self.size):\n",
    "            for j in range(self.size):\n",
    "                file.write(str(self.matr[i][j]) + \"\\n\")\n",
    "        file.close()\n",
    "        \n",
    "    def read_from_file(self, file_name):\n",
    "        file = open(file_name, \"r\")\n",
    "        self.matr = [[int(file.readline()) for j in range(self.size)] for i in range(self.size)]\n",
    "        file.close()\n",
    "        \n",
    "    def multiply(self, matrix):\n",
    "        temp = [[0 for j in range(self.size)] for i in range(self.size)]\n",
    "        for i in range(self.size):\n",
    "            for j in range(self.size):\n",
    "                for k in range(self.size):\n",
    "                    temp[i][j] += self.matr[i][k] * matrix.matr[k][j]\n",
    "        return Matrix(temp)\n",
    "        \n",
    "    def multiply_with_numpy(self, matrix):\n",
    "        temp = np.dot(self.matr, matrix.matr)\n",
    "        return Matrix(temp) \n",
    "        \n",
    "    def on_screen(self):\n",
    "        print(np.array(self.matr))\n",
    "        \n",
    "    def is_equal(self, object1):\n",
    "        if (self.matr == object1.matr).all():\n",
    "            print(\"Matrices are equal.\")\n",
    "        else:\n",
    "            print(\"Matrices are not equal.\")"
   ]
  },
  {
   "cell_type": "code",
   "execution_count": 3,
   "metadata": {},
   "outputs": [],
   "source": [
    "class Helper(object):\n",
    "    \n",
    "    def __init__(self):\n",
    "        self.matrix1 = None\n",
    "        self.matrix2 = None\n",
    "        self.matrix3 = None\n",
    "        self.matrix4 = None\n",
    "        self.matrix5 = None\n",
    "        self.matrix6 = None\n",
    "        self.matrix7 = None\n",
    "        \n",
    "    def create(self):\n",
    "        self.matrix1 = Matrix()\n",
    "        self.matrix1.generate()\n",
    "        self.matrix2 = Matrix()\n",
    "        self.matrix2.generate()\n",
    "        self.matrix3 = Matrix()\n",
    "        self.matrix4 = Matrix()\n",
    "        self.matrix5 = Matrix()\n",
    "        self.matrix6 = Matrix()\n",
    "        self.matrix7 = Matrix()\n",
    "\n",
    "    def write_and_read(self):\n",
    "        self.matrix1.write_to_file(\"Matrix_1.txt\")\n",
    "        self.matrix2.write_to_file(\"Matrix_2.txt\")\n",
    "        self.matrix3.read_from_file(\"Matrix_1.txt\")\n",
    "        self.matrix4.read_from_file(\"Matrix_2.txt\")\n",
    "        \n",
    "    def multiplications(self):\n",
    "        self.matrix5 = self.matrix3.multiply(self.matrix4)\n",
    "        self.matrix6 = self.matrix3.multiply_with_numpy(self.matrix4)\n",
    "        \n",
    "    def show_on_screen(self):\n",
    "        print(\"Ordinary multiplication:\")\n",
    "        self.matrix5.on_screen()\n",
    "        print()\n",
    "        print(\"Multiplication with numpy:\")\n",
    "        self.matrix6.on_screen()\n",
    "        print()\n",
    "        \n",
    "    def check_answer(self):\n",
    "        self.matrix5.is_equal(self.matrix6)\n",
    "        print()\n",
    "        \n",
    "    def write_and_read_answer(self):\n",
    "        self.matrix5.write_to_file(\"Answer.txt\")\n",
    "        self.matrix7.read_from_file(\"Answer.txt\")\n",
    "        \n",
    "    def show_answer_on_screen(self):\n",
    "        print(\"Answer:\")\n",
    "        self.matrix7.on_screen()"
   ]
  },
  {
   "cell_type": "code",
   "execution_count": 4,
   "metadata": {},
   "outputs": [
    {
     "name": "stdout",
     "output_type": "stream",
     "text": [
      "Ordinary multiplication:\n",
      "[[  1 -36  17   1 -27]\n",
      " [  1 -12  13 -12  23]\n",
      " [  9  -2 -14   2 -18]\n",
      " [ 44 -19   4 -14 -43]\n",
      " [-23 -23  11  -5  10]]\n",
      "\n",
      "Multiplication with numpy:\n",
      "[[  1 -36  17   1 -27]\n",
      " [  1 -12  13 -12  23]\n",
      " [  9  -2 -14   2 -18]\n",
      " [ 44 -19   4 -14 -43]\n",
      " [-23 -23  11  -5  10]]\n",
      "\n",
      "Matrices are equal.\n",
      "\n",
      "Answer:\n",
      "[[  1 -36  17   1 -27]\n",
      " [  1 -12  13 -12  23]\n",
      " [  9  -2 -14   2 -18]\n",
      " [ 44 -19   4 -14 -43]\n",
      " [-23 -23  11  -5  10]]\n"
     ]
    }
   ],
   "source": [
    "helper = Helper()\n",
    "helper.create()\n",
    "helper.write_and_read()\n",
    "helper.multiplications()\n",
    "helper.show_on_screen()\n",
    "helper.check_answer()\n",
    "helper.write_and_read_answer()\n",
    "helper.show_answer_on_screen()"
   ]
  },
  {
   "cell_type": "code",
   "execution_count": null,
   "metadata": {},
   "outputs": [],
   "source": []
  }
 ],
 "metadata": {
  "kernelspec": {
   "display_name": "Python 3",
   "language": "python",
   "name": "python3"
  },
  "language_info": {
   "codemirror_mode": {
    "name": "ipython",
    "version": 3
   },
   "file_extension": ".py",
   "mimetype": "text/x-python",
   "name": "python",
   "nbconvert_exporter": "python",
   "pygments_lexer": "ipython3",
   "version": "3.7.1"
  }
 },
 "nbformat": 4,
 "nbformat_minor": 2
}
