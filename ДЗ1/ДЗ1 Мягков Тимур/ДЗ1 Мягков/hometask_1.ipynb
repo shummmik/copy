{
 "cells": [
  {
   "cell_type": "markdown",
   "metadata": {},
   "source": [
    "## Hometask #1"
   ]
  },
  {
   "cell_type": "code",
   "execution_count": 1,
   "metadata": {},
   "outputs": [],
   "source": [
    "import random"
   ]
  },
  {
   "cell_type": "markdown",
   "metadata": {},
   "source": [
    "### Implementation of class"
   ]
  },
  {
   "cell_type": "code",
   "execution_count": 2,
   "metadata": {},
   "outputs": [],
   "source": [
    "class RandomMatrix:\n",
    "    def __init__(self, row_size, column_size):\n",
    "        self._matrix = [[random.randint(0, 100) for _ in range(column_size)] for _ in range(row_size)]\n",
    "\n",
    "    def save_to_file(self, file_name):\n",
    "        with open(file_name, \"w\") as f:\n",
    "            for row in self._matrix:\n",
    "                for item in row:\n",
    "                    f.write(f\"{item} \")\n",
    "                f.write(\"\\n\")\n",
    "\n",
    "    def replace_matrix(self, matrix):\n",
    "        self._matrix = matrix\n",
    "\n",
    "    def get_matrix(self):\n",
    "        return self._matrix\n",
    "\n",
    "    @classmethod\n",
    "    def create_from_file(cls, file_name):\n",
    "        matrix = []\n",
    "        with open(file_name) as f:\n",
    "            for row in f:\n",
    "                matrix.append([int(i) for i in row.strip(\"\\n \").split(\" \")])\n",
    "        result = cls(0, 0)\n",
    "        result._matrix = matrix\n",
    "        return result\n",
    "\n",
    "    def __getitem__(self, key):\n",
    "        return self._matrix[key]\n",
    "\n",
    "    def __len__(self):\n",
    "        return len(self._matrix)\n",
    "\n",
    "    @staticmethod\n",
    "    def get_scalar_mul(vector1, vector2):\n",
    "        return sum([vector1[i] * vector2[i] for i in range(len(vector1))])\n",
    "\n",
    "    def __mul__(self, other):\n",
    "        if isinstance(other, RandomMatrix):\n",
    "            result = []\n",
    "            for i in range(len(self)):\n",
    "                row = []\n",
    "                for j in range(len(other[0])):\n",
    "                    row.append(self.get_scalar_mul(self[i], list(zip(*other))[j]))\n",
    "                result.append(row)\n",
    "\n",
    "            result_matrix = RandomMatrix(0, 0)\n",
    "            result_matrix._matrix = result\n",
    "            return result_matrix\n",
    "\n",
    "        raise ValueError(\"Operand must be instance of RandomMatrix\")"
   ]
  },
  {
   "cell_type": "markdown",
   "metadata": {},
   "source": [
    "### Create matrices"
   ]
  },
  {
   "cell_type": "code",
   "execution_count": 3,
   "metadata": {},
   "outputs": [],
   "source": [
    "matrix1 = RandomMatrix(5,5)\n",
    "matrix2 = RandomMatrix(5,5)"
   ]
  },
  {
   "cell_type": "markdown",
   "metadata": {},
   "source": [
    "### Save matrices to files"
   ]
  },
  {
   "cell_type": "code",
   "execution_count": 4,
   "metadata": {},
   "outputs": [],
   "source": [
    "matrix1.save_to_file('m1.txt')\n",
    "matrix2.save_to_file('m2.txt')"
   ]
  },
  {
   "cell_type": "markdown",
   "metadata": {},
   "source": [
    "### Read matrices from file"
   ]
  },
  {
   "cell_type": "code",
   "execution_count": 5,
   "metadata": {
    "scrolled": true
   },
   "outputs": [],
   "source": [
    "matrix1_from_file = RandomMatrix.create_from_file('m1.txt')\n",
    "matrix2_from_file = RandomMatrix.create_from_file('m2.txt')"
   ]
  },
  {
   "cell_type": "markdown",
   "metadata": {},
   "source": [
    "### Multiplication of matrices"
   ]
  },
  {
   "cell_type": "code",
   "execution_count": 6,
   "metadata": {},
   "outputs": [],
   "source": [
    "mul_matrix = matrix1_from_file * matrix2_from_file"
   ]
  },
  {
   "cell_type": "markdown",
   "metadata": {},
   "source": [
    "###  Test"
   ]
  },
  {
   "cell_type": "code",
   "execution_count": 7,
   "metadata": {},
   "outputs": [],
   "source": [
    "import numpy as np"
   ]
  },
  {
   "cell_type": "code",
   "execution_count": 8,
   "metadata": {},
   "outputs": [],
   "source": [
    "np_matrix1 = np.array(matrix1_from_file.get_matrix())\n",
    "np_matrix2 = np.array(matrix2_from_file.get_matrix())\n",
    "\n",
    "mul_np_mtrix = np.matmul(np_matrix1, np_matrix2)"
   ]
  },
  {
   "cell_type": "code",
   "execution_count": 10,
   "metadata": {},
   "outputs": [],
   "source": [
    "assert(np.array_equal(mul_matrix.get_matrix(), mul_np_mtrix))"
   ]
  },
  {
   "cell_type": "code",
   "execution_count": 12,
   "metadata": {},
   "outputs": [
    {
     "name": "stdout",
     "output_type": "stream",
     "text": [
      "[[17772, 11538, 11808, 9930, 10914], [22285, 9784, 7688, 10627, 20707], [25393, 18428, 11772, 10099, 19991], [25707, 17636, 14549, 12388, 19027], [23129, 16312, 10899, 10680, 18345]]\n"
     ]
    }
   ],
   "source": [
    "print(mul_matrix.get_matrix())"
   ]
  },
  {
   "cell_type": "code",
   "execution_count": 13,
   "metadata": {},
   "outputs": [
    {
     "name": "stdout",
     "output_type": "stream",
     "text": [
      "[[17772 11538 11808  9930 10914]\n",
      " [22285  9784  7688 10627 20707]\n",
      " [25393 18428 11772 10099 19991]\n",
      " [25707 17636 14549 12388 19027]\n",
      " [23129 16312 10899 10680 18345]]\n"
     ]
    }
   ],
   "source": [
    "print(mul_np_mtrix)"
   ]
  },
  {
   "cell_type": "code",
   "execution_count": null,
   "metadata": {},
   "outputs": [],
   "source": []
  }
 ],
 "metadata": {
  "kernelspec": {
   "display_name": "Python 3",
   "language": "python",
   "name": "python3"
  },
  "language_info": {
   "codemirror_mode": {
    "name": "ipython",
    "version": 3
   },
   "file_extension": ".py",
   "mimetype": "text/x-python",
   "name": "python",
   "nbconvert_exporter": "python",
   "pygments_lexer": "ipython3",
   "version": "3.7.1"
  }
 },
 "nbformat": 4,
 "nbformat_minor": 2
}
