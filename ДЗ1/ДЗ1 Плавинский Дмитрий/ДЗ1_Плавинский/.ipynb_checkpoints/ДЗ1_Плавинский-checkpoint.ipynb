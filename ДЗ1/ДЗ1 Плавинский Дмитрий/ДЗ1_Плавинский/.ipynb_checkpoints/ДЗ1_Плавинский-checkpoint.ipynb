{
 "cells": [
  {
   "cell_type": "code",
   "execution_count": 2,
   "metadata": {},
   "outputs": [],
   "source": [
    "from random import randint\n",
    "import numpy as np\n",
    "class Matrix:\n",
    "    def generate(self, size):\n",
    "        ##генерируем квадратну матрицу произвольного размера, \n",
    "        ##очевидно, по заданию размер будет равен 5ти\n",
    "        self.matrix = [[randint(1,9) for i in range(0, size)] for i in range(0, size)]\n",
    "        return self\n",
    "    def read(self, file_name):\n",
    "        file_obj = open(file_name)\n",
    "        data_list = file_obj.readlines()\n",
    "        for line in data_list: \n",
    "            self.matrix = line.strip()\n",
    "        return self\n",
    "    def render(self):\n",
    "        return self.matrix\n",
    "    def save(self, file_name):\n",
    "        data_list = open(file_name, 'w')\n",
    "        data_list.write(str(self.matrix))\n",
    "        data_list.close()\n",
    "        return self\n",
    "    def read(self, file_name):\n",
    "        data_list = open(file_name, 'r')\n",
    "        self.matrix = eval(data_list.readline())\n",
    "        data_list.close()\n",
    "        return self\n",
    "    def multiply(self, second_matrix):\n",
    "        self.matrix = [[sum(el_a*el_b for el_a, el_b in zip(row_a, col_b)) \n",
    "                 for col_b in zip(*second_matrix)] for row_a in list(self.matrix)]\n",
    "        return self"
   ]
  },
  {
   "cell_type": "code",
   "execution_count": 3,
   "metadata": {},
   "outputs": [
    {
     "name": "stdout",
     "output_type": "stream",
     "text": [
      "Первая матрица на вторую умножена верна\n",
      "Вторая матрица на первую умножена верна\n"
     ]
    }
   ],
   "source": [
    "##Создание 2-x массивов размерностью 5X5 из случайных чисел.\n",
    "\n",
    "first_matrix = Matrix().generate(5)\n",
    "second_matrix = Matrix().generate(5)\n",
    "\n",
    "##Запись этих массивов в разные файлы.\n",
    "\n",
    "first_matrix.save('first_file.txt')\n",
    "second_matrix.save('second_file.txt')\n",
    "\n",
    "##Чтение из файла записанных масивов и их перемножение.\n",
    "read_first_matrix = Matrix().read('first_file.txt')\n",
    "read_second_matrix = Matrix().read('second_file.txt')\n",
    "#сохраним для проверок и перекресного перемножения\n",
    "saved_first = read_first_matrix.render()\n",
    "saved_second = read_second_matrix.render()\n",
    "#Умножаем первую на вторую\n",
    "first_m_second = read_first_matrix.multiply(saved_second).render()\n",
    "#Умножаем вторую матрицу на первую\n",
    "second_m_first = read_second_matrix.multiply(saved_first).render()\n",
    "\n",
    "##Записи и чтения результата перемножения в файл.\n",
    "#Запись\n",
    "read_first_matrix.save('first_m_second.txt')\n",
    "read_second_matrix.save('second_m_first.txt')\n",
    "#Чтение\n",
    "reader = Matrix()\n",
    "m_result_first = reader.read('first_m_second.txt').render()\n",
    "m_result_second = reader.read('second_m_first.txt').render()\n",
    "\n",
    "##################################################################################\n",
    "\n",
    "##Проверим работу класса\n",
    "first_numpy = np.array(saved_first)\n",
    "second_numpy = np.array(saved_second)\n",
    "\n",
    "#умножаем первую матрицу на вторую\n",
    "fms_numpy = np.dot(first_numpy, second_numpy).tolist() \n",
    "\n",
    "#умножаем вторую матрицу на первую\n",
    "smf_numpy = np.dot(second_numpy, first_numpy).tolist()\n",
    "\n",
    "if fms_numpy == m_result_first :\n",
    "    print('Первая матрица на вторую умножена верно')\n",
    "else :\n",
    "    print('Ошибка! Первая матрица на вторую умножена неправильно')\n",
    "    \n",
    "if smf_numpy == m_result_second :\n",
    "    print('Вторая матрица на первую умножена верно')\n",
    "else :\n",
    "    print('Ошибка! Вторая матрица на первую умножена неправильно')"
   ]
  },
  {
   "cell_type": "code",
   "execution_count": null,
   "metadata": {},
   "outputs": [],
   "source": []
  }
 ],
 "metadata": {
  "kernelspec": {
   "display_name": "Python 3",
   "language": "python",
   "name": "python3"
  },
  "language_info": {
   "codemirror_mode": {
    "name": "ipython",
    "version": 3
   },
   "file_extension": ".py",
   "mimetype": "text/x-python",
   "name": "python",
   "nbconvert_exporter": "python",
   "pygments_lexer": "ipython3",
   "version": "3.7.1"
  }
 },
 "nbformat": 4,
 "nbformat_minor": 2
}
