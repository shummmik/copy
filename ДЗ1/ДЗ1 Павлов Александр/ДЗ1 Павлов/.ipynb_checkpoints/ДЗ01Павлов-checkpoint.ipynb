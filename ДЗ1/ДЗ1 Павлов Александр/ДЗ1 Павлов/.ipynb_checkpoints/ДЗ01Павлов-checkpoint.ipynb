{
 "cells": [
  {
   "cell_type": "code",
   "execution_count": 1,
   "metadata": {},
   "outputs": [
    {
     "name": "stdout",
     "output_type": "stream",
     "text": [
      "[[ 5278  6170  9673 10268  3869]\n",
      " [10411 10647 20117 21036 10138]\n",
      " [ 6725  3834 15310 13484  4256]\n",
      " [10122  9392 18399 19595  9516]\n",
      " [14230  8132 22415 23018 10051]]\n",
      "[[5278, 6170, 9673, 10268, 3869], [10411, 10647, 20117, 21036, 10138], [6725, 3834, 15310, 13484, 4256], [10122, 9392, 18399, 19595, 9516], [14230, 8132, 22415, 23018, 10051]]\n"
     ]
    }
   ],
   "source": [
    "import random\n",
    "import numpy as np\n",
    "\n",
    "class ArrayHelper(object):\n",
    "    def __init__(self):\n",
    "        pass\n",
    "\n",
    "    def generateNew(self, rowsCount, columnsCount):\n",
    "        return [[random.randint(1,101) for j in range(columnsCount)] for i in range(rowsCount)]\n",
    "    \n",
    "    def writeToFile(self, path, arr): #serializes list\n",
    "        with open(path, \"w\") as file_obj:\n",
    "            file_obj.writelines(\" \".join(map(str, row)) + '\\n' for row in arr)\n",
    "\n",
    "    def readFromFile(self, path): #returns deserialized list\n",
    "        result = []\n",
    "        with open(path, \"r\") as file_obj:\n",
    "            data_list = file_obj.readlines()\n",
    "            for line in data_list: \n",
    "                result.append([int(s) for s in line.rstrip('\\n').split()])\n",
    "        return result\n",
    "\n",
    "    def multiply(self, a, b):\n",
    "        rows = len(a)\n",
    "        columns = len(a[0])\n",
    "\n",
    "        product = [[0 for j in range(columns)] for i in range(rows)]\n",
    "\n",
    "        for i in range(rows):\n",
    "            for j in range(columns):\n",
    "                for k in range(rows):\n",
    "                    product[i][j] += a[i][k] * b[k][j]\n",
    "\n",
    "        return product\n",
    "\n",
    "\n",
    "helper = ArrayHelper()\n",
    "\n",
    "a = helper.generateNew(5,5)\n",
    "b = helper.generateNew(5,5)\n",
    "\n",
    "helper.writeToFile('a', a)\n",
    "helper.writeToFile('b', a)\n",
    "\n",
    "aFromFile = helper.readFromFile('a')\n",
    "bFromFile = helper.readFromFile('b')\n",
    "\n",
    "print(np.matmul(aFromFile, bFromFile))\n",
    "print(helper.multiply(aFromFile, bFromFile))"
   ]
  },
  {
   "cell_type": "code",
   "execution_count": null,
   "metadata": {},
   "outputs": [],
   "source": []
  }
 ],
 "metadata": {
  "kernelspec": {
   "display_name": "Python 3",
   "language": "python",
   "name": "python3"
  },
  "language_info": {
   "codemirror_mode": {
    "name": "ipython",
    "version": 3
   },
   "file_extension": ".py",
   "mimetype": "text/x-python",
   "name": "python",
   "nbconvert_exporter": "python",
   "pygments_lexer": "ipython3",
   "version": "3.7.1"
  }
 },
 "nbformat": 4,
 "nbformat_minor": 2
}
