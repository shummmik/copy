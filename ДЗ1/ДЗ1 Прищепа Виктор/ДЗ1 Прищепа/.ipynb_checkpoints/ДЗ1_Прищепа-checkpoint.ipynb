{
 "cells": [
  {
   "cell_type": "markdown",
   "metadata": {},
   "source": [
    "### Задание: ###\n",
    "1. Создание 2-x массивов размерностью 5X5 из случайных чисел.\n",
    "2. Запись этих массивов в разные файлы.\n",
    "3. Чтение из файла записанных масивов и их перемножение.\n",
    "4. Записи и чтения результата перемножения в файл."
   ]
  },
  {
   "cell_type": "code",
   "execution_count": 1,
   "metadata": {},
   "outputs": [
    {
     "name": "stdout",
     "output_type": "stream",
     "text": [
      "[159, 149, 137, 151, 195]\n",
      "[186, 97, 168, 124, 160]\n",
      "[206, 229, 174, 142, 242]\n",
      "[172, 186, 124, 128, 204]\n",
      "[135, 151, 117, 81, 151]\n",
      "\n",
      "[[159 149 137 151 195]]\n",
      "[[186  97 168 124 160]]\n",
      "[[206 229 174 142 242]]\n",
      "[[172 186 124 128 204]]\n",
      "[[135 151 117  81 151]]\n",
      "\n"
     ]
    }
   ],
   "source": [
    "from __future__ import annotations\n",
    "import numpy as np\n",
    "import random\n",
    "\n",
    "\n",
    "class Matrix(object):\n",
    "    def __init__(self, matrix: list):\n",
    "        self.matrix = matrix\n",
    "\n",
    "    def __mul__(self, other: Matrix) -> Matrix:\n",
    "        matrix_two = other.get_matrix()\n",
    "        rows, columns = len(self.matrix), len(matrix_two[0])\n",
    "        matrix = [[0] * columns for _ in range(rows)]\n",
    "\n",
    "        for i in range(rows):\n",
    "            for j in range(columns):\n",
    "                matrix[i][j] = sum(\n",
    "                    self.matrix[i][k] * matrix_two[k][j] for k in range(len(matrix_two))\n",
    "                )\n",
    "\n",
    "        return Matrix(matrix)\n",
    "\n",
    "    def get_matrix(self) -> list:\n",
    "        return self.matrix\n",
    "\n",
    "    @staticmethod\n",
    "    def create(length: int, height: int) -> Matrix:\n",
    "        return Matrix([[random.randint(1, 10) for i in range(length)] for j in range(height)])\n",
    "\n",
    "\n",
    "class MatrixFileAdapter(object):\n",
    "    @staticmethod\n",
    "    def write(filename: str, matrix: list):\n",
    "        with open(filename, 'w') as file_obj:\n",
    "            file_obj.writelines('\\t'.join(str(j) for j in i) + '\\n' for i in matrix)\n",
    "\n",
    "    @staticmethod\n",
    "    def read(filename: str) -> list:\n",
    "        the_list = []\n",
    "\n",
    "        with open(filename) as text_file:\n",
    "            for line in text_file:\n",
    "                the_list.append([int(n) for n in line.split()])\n",
    "\n",
    "        return the_list\n",
    "\n",
    "\n",
    "def print_matrix(matrix):\n",
    "    for i in range(len(matrix)):\n",
    "        print(matrix[i])\n",
    "    print()\n",
    "\n",
    "\n",
    "# Создание 2-x массивов размерностью 5X5 из случайных чисел.\n",
    "# Запись этих массивов в разные файлы.\n",
    "MatrixFileAdapter.write('matrix_one.txt', Matrix.create(5, 5).get_matrix())\n",
    "MatrixFileAdapter.write('matrix_two.txt', Matrix.create(5, 5).get_matrix())\n",
    "\n",
    "# Чтение из файла записанных масивов.\n",
    "# Записи и чтения результата перемножения в файл.\n",
    "matrix_one = Matrix(MatrixFileAdapter.read('matrix_one.txt'))\n",
    "matrix_two = Matrix(MatrixFileAdapter.read('matrix_two.txt'))\n",
    "\n",
    "# Перемножение и запись в файл\n",
    "MatrixFileAdapter.write('multiplication_result.txt', (matrix_one * matrix_two).get_matrix())\n",
    "\n",
    "# Чтение\n",
    "print_matrix(MatrixFileAdapter.read('multiplication_result.txt'))\n",
    "\n",
    "# Проверка\n",
    "print_matrix(np.dot(np.matrix(matrix_one.get_matrix()), np.matrix(matrix_two.get_matrix())))\n"
   ]
  },
  {
   "cell_type": "code",
   "execution_count": null,
   "metadata": {},
   "outputs": [],
   "source": []
  }
 ],
 "metadata": {
  "kernelspec": {
   "display_name": "Python 3",
   "language": "python",
   "name": "python3"
  },
  "language_info": {
   "codemirror_mode": {
    "name": "ipython",
    "version": 3
   },
   "file_extension": ".py",
   "mimetype": "text/x-python",
   "name": "python",
   "nbconvert_exporter": "python",
   "pygments_lexer": "ipython3",
   "version": "3.7.1"
  }
 },
 "nbformat": 4,
 "nbformat_minor": 2
}
