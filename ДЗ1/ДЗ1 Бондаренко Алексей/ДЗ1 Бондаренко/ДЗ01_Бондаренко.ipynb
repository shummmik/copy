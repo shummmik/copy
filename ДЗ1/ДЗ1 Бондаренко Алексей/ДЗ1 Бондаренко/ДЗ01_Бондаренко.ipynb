{
 "cells": [
  {
   "cell_type": "markdown",
   "metadata": {},
   "source": [
    "Домашняя работа №1 Бондаренко Алексей\n",
    "\n",
    "Класс:"
   ]
  },
  {
   "cell_type": "code",
   "execution_count": 56,
   "metadata": {},
   "outputs": [],
   "source": [
    "import json\n",
    "from random import randint\n",
    "\n",
    "class Matrix:\n",
    "    _matrix = []\n",
    "    \n",
    "    def __init__(self, matrix = []):\n",
    "        '''default zero matrix'''\n",
    "        if not matrix:\n",
    "            matrix = [[[0] * 5] * 5]\n",
    "        self._matrix = matrix\n",
    "        \n",
    "    def get(self):\n",
    "        return self._matrix\n",
    "        \n",
    "    def generate(self):\n",
    "        self._matrix = [[randint(0, 100) for i in range(5)] for i in range(5)]\n",
    "        \n",
    "    def load(self, file_path):\n",
    "        with open(file_path, \"r\") as file_obj:\n",
    "            self._matrix = json.loads(file_obj.read())\n",
    "            \n",
    "    def save(self, file_path):\n",
    "        with open(file_path, \"w\") as file_obj:\n",
    "            file_obj.write(json.dumps(self.get()))\n",
    "    \n",
    "    def getTansposed(self):\n",
    "        return Matrix([[self._matrix[j][i] for j in range (0, 5)] for i in range(0, 5)])\n",
    "        \n",
    "    def multiply(self, second_matrix):\n",
    "        if not isinstance(second_matrix, Matrix):\n",
    "            raise Exception('matrix must be instance Matrix Class')\n",
    "        multiply_rows = lambda row1, row2 : sum([row1[i] * row2[i] for i in range(0,5)])\n",
    "        matrix1 = self.get()\n",
    "        matrix2 = second_matrix.getTansposed().get()\n",
    "        result = [[mult_rows(matrix1[i], matrix2[j]) for j in range(5)] for i in range(5)]\n",
    "        return Matrix(result)\n",
    "    "
   ]
  },
  {
   "cell_type": "markdown",
   "metadata": {},
   "source": [
    "Проверка при помощи numpy и glob (сохранение)"
   ]
  },
  {
   "cell_type": "code",
   "execution_count": 58,
   "metadata": {},
   "outputs": [
    {
     "name": "stdout",
     "output_type": "stream",
     "text": [
      "All txt files in file directory:\n",
      "['matrix1.txt', 'matrix2.txt', 'result_matrix.txt']\n",
      "Class result:\n",
      "[[11901 16617  8080  7088  9483]\n",
      " [ 9840 14440  8689  8442  9884]\n",
      " [13473 14203  9231  8368  8365]\n",
      " [10157 11314  5459  3890  5331]\n",
      " [17388 21430 12308 12116 12916]]\n",
      "Numpy result:\n",
      "[[11901 16617  8080  7088  9483]\n",
      " [ 9840 14440  8689  8442  9884]\n",
      " [13473 14203  9231  8368  8365]\n",
      " [10157 11314  5459  3890  5331]\n",
      " [17388 21430 12308 12116 12916]]\n",
      "Сomparison:\n",
      "[[ True  True  True  True  True]\n",
      " [ True  True  True  True  True]\n",
      " [ True  True  True  True  True]\n",
      " [ True  True  True  True  True]\n",
      " [ True  True  True  True  True]]\n"
     ]
    }
   ],
   "source": [
    "import numpy as np\n",
    "import glob\n",
    "\n",
    "matrix1 = Matrix()\n",
    "matrix2 = Matrix()\n",
    "matrix1.generate()\n",
    "matrix2.generate()\n",
    "\n",
    "matrix1.save('matrix1.txt')\n",
    "matrix2.save('matrix2.txt')\n",
    "\n",
    "matrix1.load('matrix1.txt')\n",
    "matrix2.load('matrix2.txt')\n",
    "\n",
    "result_matrix = matrix1.multiply(matrix2)\n",
    "result_matrix.save('result_matrix.txt')\n",
    "result_matrix.load('result_matrix.txt')\n",
    "\n",
    "print('All txt files in file directory:')\n",
    "print(glob.glob(\"*.txt\"))\n",
    "\n",
    "print('Class result:')\n",
    "print(np.array(result_matrix.get()))\n",
    "print('Numpy result:')\n",
    "print(np.matmul(matrix1.get(), matrix2.get()))\n",
    "print('Сomparison:')\n",
    "print(np.matmul(matrix1.get(), matrix2.get()) == np.array(result_matrix.get()))"
   ]
  }
 ],
 "metadata": {
  "kernelspec": {
   "display_name": "Python 3",
   "language": "python",
   "name": "python3"
  },
  "language_info": {
   "codemirror_mode": {
    "name": "ipython",
    "version": 3
   },
   "file_extension": ".py",
   "mimetype": "text/x-python",
   "name": "python",
   "nbconvert_exporter": "python",
   "pygments_lexer": "ipython3",
   "version": "3.7.1"
  }
 },
 "nbformat": 4,
 "nbformat_minor": 2
}
