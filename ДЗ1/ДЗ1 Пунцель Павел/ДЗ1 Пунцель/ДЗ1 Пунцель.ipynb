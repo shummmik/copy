{
 "cells": [
  {
   "cell_type": "code",
   "execution_count": 1,
   "metadata": {},
   "outputs": [
    {
     "name": "stdout",
     "output_type": "stream",
     "text": [
      "[[24927, 20986, 18140, 23402, 13411], [23747, 19098, 18555, 17159, 11473], [18617, 15696, 12159, 15106, 8366], [11322, 9034, 8807, 12449, 9178], [19834, 14579, 10840, 14083, 12908]]\n",
      "[[24927 20986 18140 23402 13411]\n",
      " [23747 19098 18555 17159 11473]\n",
      " [18617 15696 12159 15106  8366]\n",
      " [11322  9034  8807 12449  9178]\n",
      " [19834 14579 10840 14083 12908]]\n"
     ]
    }
   ],
   "source": [
    "import json\n",
    "import random\n",
    "import numpy as np\n",
    "\n",
    "class MatrixMultiplier:\n",
    "    \n",
    "    def generate_matrix(self, size):\n",
    "        return [[random.randint(1,101) for x in range(size)] for y in range(size)]\n",
    "\n",
    "    def write_file(self, fname, data):\n",
    "        with open(fname, 'w') as f:\n",
    "            json.dump(data, f)\n",
    "\n",
    "    def read_file(self, fname):\n",
    "        with open(fname, 'r') as f:\n",
    "            return json.load(f)\n",
    "        \n",
    "    def get_matrix(self, fname, size):\n",
    "        self.write_file(fname, self.generate_matrix(size))\n",
    "        return self.read_file(fname)\n",
    "    \n",
    "    def multiply(self, a, b):\n",
    "        return [[sum(item_a * item_b for item_a, item_b in\n",
    "                 zip(a_row, b_col)) for b_col in list(zip(*b))] for a_row in a]\n",
    "\n",
    "multiplier = MatrixMultiplier()\n",
    "\n",
    "matix_size = 5\n",
    "ma = multiplier.get_matrix('a.json', matix_size)\n",
    "mb = multiplier.get_matrix('b.json', matix_size)\n",
    "\n",
    "result = multiplier.multiply(ma, mb)\n",
    "multiplier.write_file('result,json', result)\n",
    "print(result)\n",
    "\n",
    "result_control = np.matmul(ma, mb)\n",
    "print(result_control)\n"
   ]
  },
  {
   "cell_type": "code",
   "execution_count": null,
   "metadata": {},
   "outputs": [],
   "source": []
  }
 ],
 "metadata": {
  "kernelspec": {
   "display_name": "Python 3",
   "language": "python",
   "name": "python3"
  },
  "language_info": {
   "codemirror_mode": {
    "name": "ipython",
    "version": 3
   },
   "file_extension": ".py",
   "mimetype": "text/x-python",
   "name": "python",
   "nbconvert_exporter": "python",
   "pygments_lexer": "ipython3",
   "version": "3.7.1"
  }
 },
 "nbformat": 4,
 "nbformat_minor": 2
}
